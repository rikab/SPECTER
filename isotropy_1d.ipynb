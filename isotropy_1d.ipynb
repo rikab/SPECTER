{
 "cells": [
  {
   "cell_type": "code",
   "execution_count": 1,
   "metadata": {},
   "outputs": [],
   "source": [
    "# Jax\n",
    "from jax import grad, jacobian, jit\n",
    "import jax.numpy as jnp\n",
    "from jax import random"
   ]
  },
  {
   "cell_type": "code",
   "execution_count": null,
   "metadata": {},
   "outputs": [],
   "source": [
    "def uniform_ring(n, beta = 1):\n",
    "    \n",
    "    phis = jnp.linspace(0, 2*jnp.pi, n)\n",
    "    omega = (1 - jnp.cos(phis)) / 2\n",
    "    return omega**beta\n",
    "\n",
    "\n",
    "def uniform_ring_isotropy(n):\n",
    "\n",
    "    norm = 1\n",
    "    Etot = 1\n",
    "\n",
    "    omega_n = jnp.sort(uniform_ring(n))\n",
    "    e_n = Etot * jnp.ones_like(omega_n) / n\n",
    "\n",
    "\n",
    "\n",
    "    term1 = jnp.sum(e_n * omega_n**2) \n",
    "    term2 = Etot / 3\n",
    "\n",
    "    cross_term = \n"
   ]
  }
 ],
 "metadata": {
  "kernelspec": {
   "display_name": "SHAPER",
   "language": "python",
   "name": "python3"
  },
  "language_info": {
   "codemirror_mode": {
    "name": "ipython",
    "version": 3
   },
   "file_extension": ".py",
   "mimetype": "text/x-python",
   "name": "python",
   "nbconvert_exporter": "python",
   "pygments_lexer": "ipython3",
   "version": "3.8.2"
  },
  "orig_nbformat": 4
 },
 "nbformat": 4,
 "nbformat_minor": 2
}
