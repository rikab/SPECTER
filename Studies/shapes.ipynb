{
 "cells": [
  {
   "cell_type": "code",
   "execution_count": 1,
   "metadata": {},
   "outputs": [
    {
     "name": "stderr",
     "output_type": "stream",
     "text": [
      "2024-03-05 23:03:25.559909: W tensorflow/compiler/tf2tensorrt/utils/py_utils.cc:38] TF-TRT Warning: Could not find TensorRT\n",
      "No GPU/TPU found, falling back to CPU. (Set TF_CPP_MIN_LOG_LEVEL=0 and rerun for more info.)\n",
      "/home/rikab/miniconda3/envs/SHAPER/lib/python3.8/site-packages/ot/backend.py:2998: UserWarning: To use TensorflowBackend, you need to activate the tensorflow numpy API. You can activate it by running: \n",
      "from tensorflow.python.ops.numpy_ops import np_config\n",
      "np_config.enable_numpy_behavior()\n",
      "  register_backend(TensorflowBackend())\n"
     ]
    }
   ],
   "source": [
    "# Standard Imports\n",
    "import numpy as np\n",
    "from time import time\n",
    "from matplotlib import pyplot as plt\n",
    "import os\n",
    "\n",
    "\n",
    "from pyspecter.SPECTER import SPECTER\n",
    "from pyspecter.Observables import Observable\n",
    "# from pyspecter.SpecialObservables import SpecialObservables\n",
    "\n",
    "# Utils\n",
    "from pyspecter.utils.data_utils import load_cmsopendata, load_triangles\n",
    "from pyspecter.utils.plot_utils import newplot, plot_event\n",
    "\n",
    "# Jax\n",
    "from jax import grad, jacobian, jit\n",
    "import jax.numpy as jnp\n",
    "from jax import random\n",
    "\n",
    "# SPECTER\n",
    "from pyspecter.SpectralEMD_Helper import compute_spectral_representation"
   ]
  },
  {
   "cell_type": "markdown",
   "metadata": {},
   "source": [
    "# Dataset"
   ]
  },
  {
   "cell_type": "code",
   "execution_count": 2,
   "metadata": {},
   "outputs": [
    {
     "name": "stdout",
     "output_type": "stream",
     "text": [
      "Max # of particles: 132\n"
     ]
    }
   ],
   "source": [
    "# Parameters \n",
    "R = 0.5\n",
    "this_dir = \"\"\n",
    "this_study = \"cmsopendata\"\n",
    "\n",
    "\n",
    "dataset_open, sim_weights, k = load_cmsopendata(\"~/.energyflow/\", \"sim\", 475, 525, 1.9, 2, pad = 75, n = 10000)\n",
    "triangle_events, triangle_indices = load_triangles(180, 180, R = 1.0, return_indices=True)\n",
    "\n",
    "dataset = dataset_open"
   ]
  },
  {
   "cell_type": "code",
   "execution_count": null,
   "metadata": {},
   "outputs": [],
   "source": []
  }
 ],
 "metadata": {
  "kernelspec": {
   "display_name": "SHAPER",
   "language": "python",
   "name": "python3"
  },
  "language_info": {
   "codemirror_mode": {
    "name": "ipython",
    "version": 3
   },
   "file_extension": ".py",
   "mimetype": "text/x-python",
   "name": "python",
   "nbconvert_exporter": "python",
   "pygments_lexer": "ipython3",
   "version": "3.8.2"
  }
 },
 "nbformat": 4,
 "nbformat_minor": 2
}
