{
 "cells": [
  {
   "cell_type": "code",
   "execution_count": 1,
   "metadata": {},
   "outputs": [
    {
     "name": "stderr",
     "output_type": "stream",
     "text": [
      "2024-03-05 23:12:13.291612: W tensorflow/compiler/tf2tensorrt/utils/py_utils.cc:38] TF-TRT Warning: Could not find TensorRT\n",
      "No GPU/TPU found, falling back to CPU. (Set TF_CPP_MIN_LOG_LEVEL=0 and rerun for more info.)\n",
      "/home/rikab/miniconda3/envs/SHAPER/lib/python3.8/site-packages/ot/backend.py:2998: UserWarning: To use TensorflowBackend, you need to activate the tensorflow numpy API. You can activate it by running: \n",
      "from tensorflow.python.ops.numpy_ops import np_config\n",
      "np_config.enable_numpy_behavior()\n",
      "  register_backend(TensorflowBackend())\n"
     ]
    }
   ],
   "source": [
    "# Standard Imports\n",
    "import numpy as np\n",
    "from time import time\n",
    "from matplotlib import pyplot as plt\n",
    "import os\n",
    "\n",
    "\n",
    "from pyspecter.SPECTER import SPECTER\n",
    "from pyspecter.Observables import Observable\n",
    "# from pyspecter.SpecialObservables import SpecialObservables\n",
    "\n",
    "# Utils\n",
    "from pyspecter.utils.data_utils import load_cmsopendata, load_triangles\n",
    "from pyspecter.utils.plot_utils import newplot, plot_event\n",
    "\n",
    "# Jax\n",
    "from jax import grad, jacobian, jit\n",
    "import jax.numpy as jnp\n",
    "from jax import random\n",
    "\n",
    "# SPECTER\n",
    "from pyspecter.SpectralEMD_Helper import compute_spectral_representation"
   ]
  },
  {
   "cell_type": "markdown",
   "metadata": {},
   "source": [
    "# Dataset"
   ]
  },
  {
   "cell_type": "code",
   "execution_count": 2,
   "metadata": {},
   "outputs": [
    {
     "name": "stdout",
     "output_type": "stream",
     "text": [
      "Max # of particles: 132\n"
     ]
    }
   ],
   "source": [
    "# Parameters \n",
    "R = 0.1\n",
    "this_dir = \"\"\n",
    "this_study = \"cmsopendata\"\n",
    "\n",
    "\n",
    "dataset_open, sim_weights, k = load_cmsopendata(\"~/.energyflow/\", \"sim\", 475, 525, 1.9, 2, pad = 75, n = 10000)\n",
    "triangle_events, triangle_indices = load_triangles(180, 180, R = 1.0, return_indices=True)\n",
    "\n",
    "dataset = dataset_open"
   ]
  },
  {
   "cell_type": "code",
   "execution_count": 3,
   "metadata": {},
   "outputs": [],
   "source": [
    "from pyspecter.SpectralEMD_Helper import ds2_events1_spectral2\n",
    "import jax.example_libraries.optimizers as jax_opt\n",
    "from jax.example_libraries import optimizers\n",
    "import jax\n",
    "import jax.lax as lax\n",
    "import tqdm\n",
    "\n",
    "# Compile \n",
    "compiled_compute_spectral_representation = jit(compute_spectral_representation)\n",
    "\n",
    "\n",
    "\n",
    "\n",
    "def initialize(event, N, seed):\n",
    "\n",
    "    return {\"Length\" : R}\n",
    "\n",
    "\n",
    "def sample_line(params, N, seed):\n",
    "\n",
    "    key = jax.random.PRNGKey(seed)\n",
    "    ones = jax.random.uniform(key, shape=(N,), minval=0., maxval=1)\n",
    "    \n",
    "    # Compute x and y coordinates of the sampled points on the line\n",
    "    x = params[\"Length\"] * ones\n",
    "    y = params[\"Length\"] * jnp.zeros_like(ones)\n",
    "    \n",
    "    event = jnp.column_stack([jnp.ones(N) / N, x, y])\n",
    "    \n",
    "    return event\n",
    "\n",
    "sample_line = jax.jit(sample_line, static_argnums=(1,))\n",
    "\n",
    "def project(params):\n",
    "\n",
    "    radius = params[\"Length\"]\n",
    "    params[\"Length\"] = jnp.maximum(radius, 0.)\n",
    "    return params\n",
    "    \n",
    "\n",
    "\n",
    "\n",
    "def train_step(epoch, spectral_event, params, sample_N):\n",
    "\n",
    "    shape_event = sample_line(params, sample_N, seed = epoch)\n",
    "    sEMDS = jax.checkpoint(ds2_events1_spectral2)(shape_event, spectral_event)\n",
    "    return sEMDS\n",
    "\n",
    "gradient_train_step = jax.grad(train_step, argnums = 2)\n",
    "\n",
    "vmapped_compute_spectral_representation = jax.vmap(compute_spectral_representation, in_axes = (0,))\n",
    "vmapped_train_step = jax.vmap(train_step, in_axes = (None, 0, 0, None))\n",
    "vmapped_gradient_train_step = jax.vmap(gradient_train_step, in_axes = (None, 0, 0, None))\n",
    "vmapped_initialize = jax.vmap(initialize, in_axes = (0, None, None))\n",
    "vmapped_project = jax.vmap(project, in_axes = (0,))\n",
    "\n",
    "\n",
    "vmapped_compute_spectral_representation = jax.jit(vmapped_compute_spectral_representation)\n",
    "vmapped_train_step = jax.jit(vmapped_train_step, static_argnums= (3,))\n",
    "vmapped_gradient_train_step = jax.jit(vmapped_gradient_train_step, static_argnums= (3,))\n",
    "vmapped_initialize = jax.jit(vmapped_initialize)\n",
    "vmapped_project = jax.jit(vmapped_project)\n",
    "\n",
    "\n",
    "\n",
    "# Chain rule\n",
    "few_to_many_grad = jax.grad(sample_line, argnums=0)\n",
    "many_to_few = jax.grad(ds2_events1_spectral2)\n",
    "def my_gradient(epoch, spectral_event, params):\n",
    "    shape_event = sample_line(params, 25, seed = epoch)\n",
    "    d1 = few_to_many_grad(params, 25, seed = epoch)\n",
    "    d2 = many_to_few(shape_event, spectral_event)\n",
    "    return jnp.dot(d1, d2)\n",
    "vmapped_my_gradient = jax.vmap(my_gradient, in_axes = (0,))\n",
    "\n",
    "def finite_differences_gradient(epoch, sEMD, spectral_event, params, N_sample = 25, epsilon=1e-2):\n",
    "    \"\"\"\n",
    "    Compute the gradient of `loss_fn` with respect to `params` using finite differences.\n",
    "    This version uses multiplicative epsilon and is JAX-compilable.\n",
    "    \n",
    "    Args:\n",
    "        params (dict): A dictionary containing the parameters.\n",
    "        loss_fn (callable): The loss function to compute the gradient of.\n",
    "        x (array): The input data for the loss function.\n",
    "        y (array): The output data for the loss function.\n",
    "        epsilon (float, optional): The small relative change to apply to each parameter to calculate finite differences.\n",
    "    \n",
    "    Returns:\n",
    "        dict: A dictionary of gradients for each parameter.\n",
    "    \"\"\"\n",
    "    \n",
    "    def get_perturbed_loss(delta):\n",
    "        # Perturb each parameter by a small relative amount and evaluate the loss\n",
    "        perturbed_params = jax.tree_map(lambda v: v * (1 + delta) + 1e-4, params)\n",
    "        return train_step(epoch, spectral_event, perturbed_params, N_sample)\n",
    "\n",
    "    # Compute the perturbed losses for positive and negative epsilon\n",
    "    loss_plus_epsilon = get_perturbed_loss(epsilon)\n",
    "    # loss_minus_epsilon = get_perturbed_loss(-epsilon)\n",
    "\n",
    "    # Use jax.tree_multimap to compute the gradient for each parameter\n",
    "    gradients = jax.tree_map(\n",
    "        lambda v: (loss_plus_epsilon - sEMD) / (epsilon * v + 1e-4),\n",
    "        params\n",
    "    )\n",
    "    \n",
    "    return gradients\n",
    "\n",
    "\n",
    "vmapped_finite_differences_gradient = jax.jit(jax.vmap(finite_differences_gradient, in_axes = (None, 0, 0, 0,None)), static_argnums=(4,))\n",
    "\n",
    "def compute_single_event(event, learning_rate = 0.001, epochs = 150, N_sample = 25, finite_difference = True):\n",
    "\n",
    "    spectral_event = compiled_compute_spectral_representation(event)\n",
    "    params =   initialize(event, N_sample, seed = random.PRNGKey(0))\n",
    "\n",
    "    # Optimizer\n",
    "    opt_state = None\n",
    "    opt_init, opt_update, get_params = jax_opt.adam(learning_rate)\n",
    "    opt_state = opt_init(params)\n",
    "\n",
    "    losses = np.zeros((epochs,))\n",
    "    for epoch in tqdm.tqdm(range(epochs)):\n",
    "\n",
    "        params = get_params(opt_state)\n",
    "        params = project(params)\n",
    "        \n",
    "        sEMD = train_step(epoch, spectral_event, params, N_sample)\n",
    "        if finite_difference:\n",
    "            grads = finite_differences_gradient(epoch, sEMD, spectral_event, params, N_sample)\n",
    "        else:\n",
    "            grads = gradient_train_step(epoch, spectral_event, params, N_sample)\n",
    "        opt_state = opt_update(epoch, grads, opt_state)\n",
    "\n",
    "       # Apply the separate function to modify the parameters\n",
    "        new_params = project(get_params(opt_state))\n",
    "\n",
    "        # Manually modify the opt_state's parameters without resetting internal state\n",
    "        opt_state = replace_params_in_state(opt_state, new_params)\n",
    "        losses[epoch] = sEMD\n",
    "\n",
    "    return jnp.min(losses), params, losses\n",
    "\n",
    "\n",
    "\n",
    "\n",
    "\n",
    "def compute_events(events, learning_rate = 0.001, epochs = 150, N_sample = 25, finite_difference = True):\n",
    "\n",
    "    spectral_event = vmapped_compute_spectral_representation(events)\n",
    "    print(spectral_event.shape, events.shape)\n",
    "    params =   vmapped_initialize(events, N_sample, 0)\n",
    "    best_params = params.copy()\n",
    "\n",
    "    # Optimizer\n",
    "    opt_state = None\n",
    "    opt_init, opt_update, get_params = jax_opt.adam(learning_rate)\n",
    "    opt_state = opt_init(params)\n",
    "\n",
    "    losses = np.ones((epochs,events.shape[0])) * 99999\n",
    "    early_stopping_counter = 0\n",
    "\n",
    "    for epoch in tqdm.tqdm(range(epochs)):\n",
    "\n",
    "        params = get_params(opt_state)\n",
    "        params = vmapped_project(params)\n",
    "        \n",
    "        sEMD = vmapped_train_step(epoch, spectral_event, params,N_sample)\n",
    "        if  finite_difference:\n",
    "            grads = vmapped_finite_differences_gradient(epoch, sEMD, spectral_event, params, N_sample)\n",
    "        else:\n",
    "            grads = vmapped_gradient_train_step(epoch, spectral_event, params, N_sample)\n",
    "        opt_state = opt_update(epoch, grads, opt_state)\n",
    "\n",
    "       # Apply the separate function to modify the parameters\n",
    "        new_params = vmapped_project(get_params(opt_state))\n",
    "\n",
    "        # Manually modify the opt_state's parameters without resetting internal state\n",
    "        opt_state = replace_params_in_state(opt_state, new_params)\n",
    "        losses[epoch] = sEMD\n",
    "\n",
    "        # if the loss has not changed in 10 epochs, stop\n",
    "        if epoch > 10:\n",
    "            if np.all(losses[epoch] >= losses[epoch-10]):\n",
    "                early_stopping_counter += 1\n",
    "            else:\n",
    "                early_stopping_counter = 0\n",
    "\n",
    "        if early_stopping_counter > 10:\n",
    "            break\n",
    "\n",
    "        # if the loss has decreased, save the parameters for each event\n",
    "        for i in range(events.shape[0]):\n",
    "            if i > 0 and sEMD[i] < losses[epoch-1,i]:\n",
    "                for key in params.keys():\n",
    "                    best_params[key] = best_params[key].at[i].set(params[key][i])\n",
    "\n",
    "    \n",
    "    return jnp.min(losses, axis = 0), best_params, losses\n",
    "\n",
    "\n",
    "\n",
    "def replace_params_in_state(opt_state, new_params):\n",
    "    if isinstance(opt_state, tuple) and len(opt_state) == 2 and isinstance(opt_state[0], dict):\n",
    "        # This is the parameter tuple for Adam\n",
    "        return (new_params, opt_state[1])\n",
    "    elif isinstance(opt_state, tuple):\n",
    "        # Unpack and modify recursively\n",
    "        return tuple(replace_params_in_state(sub_state, new_params) for sub_state in opt_state)\n",
    "    else:\n",
    "        # Leaf node or unknown type, return unchanged\n",
    "        return opt_state\n",
    "\n",
    "\n",
    "\n",
    "\n"
   ]
  },
  {
   "cell_type": "code",
   "execution_count": null,
   "metadata": {},
   "outputs": [],
   "source": []
  },
  {
   "cell_type": "code",
   "execution_count": 4,
   "metadata": {},
   "outputs": [],
   "source": [
    "def l_opt(event):\n",
    "\n",
    "    # Spectral representation of the form (omega, 2*EE) with sorted omegas\n",
    "    spectral_event = compute_spectral_representation(event)\n",
    "\n",
    "    omegas = spectral_event[:,0]\n",
    "    two_EE = spectral_event[:,1]\n",
    "    E_tot = np.sum(two_EE)\n",
    "\n",
    "    # Cumulative spectral function, inclusive and exclusive\n",
    "    cumulative_spectral_function = np.cumsum(two_EE)\n",
    "    cumulative_exclusive = cumulative_spectral_function - two_EE\n",
    "\n",
    "    term0 = two_EE\n",
    "    term1 = 2/3 / E_tot * jnp.power(E_tot - cumulative_spectral_function, 3/2)\n",
    "    term2 = 2/3 / E_tot * jnp.power(E_tot - cumulative_exclusive, 3/2)\n",
    "    \n",
    "    return 6 * jnp.sum(omegas * (term0 + term1 - term2)) / E_tot**2\n",
    "\n",
    "vmapped_l_opt = jax.vmap(l_opt, in_axes = (0,))\n",
    "\n",
    "closed_form_l = vmapped_l_opt(dataset)\n",
    "\n",
    "filename = f\"{this_study}_closed_form_params.npy\"\n",
    "save_dir = os.path.join(this_dir, filename)\n",
    "np.save(save_dir, closed_form_l)\n",
    "\n",
    "\n",
    "def closed_form_sEMD(event, R):\n",
    "\n",
    "    spectral_event = compute_spectral_representation(event)\n",
    "\n",
    "    omegas = spectral_event[:,0]\n",
    "    two_EE = spectral_event[:,1]\n",
    "\n",
    "    return jnp.sum(omegas**2 * two_EE) -   R**2 /6 \n",
    "\n",
    "vmapped_closed_form_sEMD = jax.vmap(closed_form_sEMD, in_axes = (0, 0))\n",
    "r2 = vmapped_closed_form_sEMD(dataset, closed_form_l)\n",
    "filename = f\"{this_study}_closed_form_sEMDs.npy\"\n",
    "save_dir = os.path.join(this_dir, filename)\n",
    "np.save(save_dir, r2)\n",
    "# plt.hist(closed_form_r[:100] / shape_events[\"Length\"] * np.pi)"
   ]
  },
  {
   "cell_type": "code",
   "execution_count": 5,
   "metadata": {},
   "outputs": [
    {
     "name": "stderr",
     "output_type": "stream",
     "text": [
      "100%|██████████| 150/150 [00:16<00:00,  9.18it/s]\n"
     ]
    },
    {
     "name": "stdout",
     "output_type": "stream",
     "text": [
      "(Array(0.00014865, dtype=float32), {'Length': Array(0.99185383, dtype=float32)}, array([0.12489356, 0.0937257 , 0.07220286, 0.0417231 , 0.0421478 ,\n",
      "       0.02576125, 0.01920001, 0.00712949, 0.00124425, 0.00160661,\n",
      "       0.00098184, 0.00156665, 0.00111824, 0.00979304, 0.01548928,\n",
      "       0.00447375, 0.01485062, 0.01319391, 0.00431594, 0.01947123,\n",
      "       0.01301166, 0.00087243, 0.0141336 , 0.00987047, 0.0112716 ,\n",
      "       0.00526357, 0.00078049, 0.00539771, 0.00180936, 0.00411397,\n",
      "       0.00567362, 0.00527516, 0.00508389, 0.00852963, 0.00176415,\n",
      "       0.00941193, 0.00627553, 0.00557417, 0.00353965, 0.00192055,\n",
      "       0.00980732, 0.00178269, 0.00030434, 0.0023455 , 0.00079641,\n",
      "       0.00033545, 0.00272569, 0.00097468, 0.00475293, 0.00233498,\n",
      "       0.00029418, 0.00038499, 0.00412917, 0.00047863, 0.00072351,\n",
      "       0.00025499, 0.00016657, 0.00448459, 0.00286573, 0.00065136,\n",
      "       0.00037083, 0.00062954, 0.00065166, 0.00017074, 0.0035488 ,\n",
      "       0.00036758, 0.00123611, 0.00085998, 0.00014865, 0.00614718,\n",
      "       0.00335476, 0.00077063, 0.00017047, 0.00056139, 0.00017983,\n",
      "       0.00073785, 0.00229377, 0.01375578, 0.00068983, 0.00186205,\n",
      "       0.00301892, 0.00500348, 0.00356823, 0.00028494, 0.00581485,\n",
      "       0.00159183, 0.00404328, 0.00091657, 0.00201264, 0.00847158,\n",
      "       0.00924167, 0.00017673, 0.00077361, 0.00464189, 0.00027946,\n",
      "       0.00052834, 0.00059605, 0.00569952, 0.00326553, 0.00890496,\n",
      "       0.00087556, 0.00205335, 0.00241905, 0.0033325 , 0.00101259,\n",
      "       0.00114894, 0.00101712, 0.00180665, 0.00138569, 0.00119436,\n",
      "       0.00396782, 0.00081727, 0.00450772, 0.00162548, 0.00406429,\n",
      "       0.00047979, 0.00103089, 0.00025553, 0.00597358, 0.00054994,\n",
      "       0.00136971, 0.00072902, 0.00232387, 0.0076372 , 0.00032875,\n",
      "       0.00159049, 0.00049296, 0.00305408, 0.00032756, 0.00074953,\n",
      "       0.00095502, 0.00338224, 0.00490132, 0.00057817, 0.00218791,\n",
      "       0.00024265, 0.00095165, 0.001968  , 0.00025085, 0.00084776,\n",
      "       0.00048545, 0.00031137, 0.00344235, 0.0014421 , 0.00120884,\n",
      "       0.00185972, 0.00112993, 0.00110871, 0.0028972 , 0.01034163]))\n",
      "0.96568984\n",
      "0.96568984\n",
      "-0.011238888\n",
      "[[0.0000000e+00 9.9999998e-03]\n",
      " [1.1301041e-04 1.9999999e-04]\n",
      " [1.6367435e-04 1.9999999e-04]\n",
      " ...\n",
      " [9.6658409e-01 1.9999999e-04]\n",
      " [9.6669710e-01 1.9999999e-04]\n",
      " [9.6713769e-01 1.9999999e-04]]\n"
     ]
    },
    {
     "data": {
      "text/plain": [
       "[<matplotlib.lines.Line2D at 0x7f4bf024a970>]"
      ]
     },
     "execution_count": 5,
     "metadata": {},
     "output_type": "execute_result"
    },
    {
     "data": {
      "image/png": "[encoded data removed]",
      "text/plain": [
       "<Figure size 800x800 with 1 Axes>"
      ]
     },
     "metadata": {},
     "output_type": "display_data"
    }
   ],
   "source": [
    "fig, ax = newplot()\n",
    "circle = sample_line({\"Length\" : 1.0}, 100, 0)\n",
    "print(compute_single_event(circle,learning_rate=0.1, finite_difference=False))\n",
    "print(l_opt(circle))\n",
    "print(l_opt(circle))\n",
    "\n",
    "\n",
    "print\n",
    "print(closed_form_sEMD(circle,1))\n",
    "\n",
    "# plot_event(ax, circle, 1)\n",
    "\n",
    "spectral_circle = compute_spectral_representation(circle)\n",
    "print(spectral_circle)\n",
    "plt.plot(spectral_circle[:,0], np.cumsum(spectral_circle[:,1]))\n",
    "plt.plot(spectral_circle[:,0], 2 * spectral_circle[:,0] - spectral_circle[:,0]**2)"
   ]
  },
  {
   "cell_type": "code",
   "execution_count": 6,
   "metadata": {},
   "outputs": [
    {
     "name": "stdout",
     "output_type": "stream",
     "text": [
      "[[0.  0.5]\n",
      " [1.  0.5]]\n",
      "[[0.  0.5]\n",
      " [2.  0.5]]\n",
      "0.5\n"
     ]
    }
   ],
   "source": [
    "event_1 = np.array(((0.5, 0, 0), (0.5, 0, 1)))\n",
    "event_2 = np.array(((0.5, 0, 0), (0.5, 0, 2)))\n",
    "\n",
    "spectral_1 = compute_spectral_representation(event_1)\n",
    "spectral_2 = compute_spectral_representation(event_2)\n",
    "\n",
    "print(spectral_1)\n",
    "print(spectral_2)\n",
    "\n",
    "print(ds2_events1_spectral2(event_1, spectral_2))"
   ]
  },
  {
   "cell_type": "code",
   "execution_count": 7,
   "metadata": {},
   "outputs": [
    {
     "name": "stderr",
     "output_type": "stream",
     "text": [
      "100%|██████████| 150/150 [00:06<00:00, 22.45it/s]\n"
     ]
    },
    {
     "name": "stdout",
     "output_type": "stream",
     "text": [
      "Batch 1 of 100\n",
      "(100, 2776, 2) (100, 75, 3)\n"
     ]
    },
    {
     "name": "stderr",
     "output_type": "stream",
     "text": [
      "100%|██████████| 150/150 [00:28<00:00,  5.26it/s]\n"
     ]
    },
    {
     "name": "stdout",
     "output_type": "stream",
     "text": [
      "Batch 2 of 100\n",
      "(100, 2776, 2) (100, 75, 3)\n"
     ]
    },
    {
     "name": "stderr",
     "output_type": "stream",
     "text": [
      "100%|██████████| 150/150 [00:22<00:00,  6.68it/s]\n"
     ]
    },
    {
     "name": "stdout",
     "output_type": "stream",
     "text": [
      "Batch 3 of 100\n",
      "(100, 2776, 2) (100, 75, 3)\n"
     ]
    },
    {
     "name": "stderr",
     "output_type": "stream",
     "text": [
      "100%|██████████| 150/150 [00:21<00:00,  6.92it/s]\n"
     ]
    },
    {
     "name": "stdout",
     "output_type": "stream",
     "text": [
      "Batch 4 of 100\n",
      "(100, 2776, 2) (100, 75, 3)\n"
     ]
    },
    {
     "name": "stderr",
     "output_type": "stream",
     "text": [
      "100%|██████████| 150/150 [00:22<00:00,  6.79it/s]\n"
     ]
    },
    {
     "name": "stdout",
     "output_type": "stream",
     "text": [
      "Batch 5 of 100\n",
      "(100, 2776, 2) (100, 75, 3)\n"
     ]
    },
    {
     "name": "stderr",
     "output_type": "stream",
     "text": [
      "100%|██████████| 150/150 [00:21<00:00,  6.85it/s]\n"
     ]
    },
    {
     "name": "stdout",
     "output_type": "stream",
     "text": [
      "Batch 6 of 100\n",
      "(100, 2776, 2) (100, 75, 3)\n"
     ]
    },
    {
     "name": "stderr",
     "output_type": "stream",
     "text": [
      "100%|██████████| 150/150 [00:21<00:00,  6.98it/s]\n"
     ]
    },
    {
     "name": "stdout",
     "output_type": "stream",
     "text": [
      "Batch 7 of 100\n",
      "(100, 2776, 2) (100, 75, 3)\n"
     ]
    },
    {
     "name": "stderr",
     "output_type": "stream",
     "text": [
      "100%|██████████| 150/150 [00:20<00:00,  7.40it/s]\n"
     ]
    },
    {
     "name": "stdout",
     "output_type": "stream",
     "text": [
      "Batch 8 of 100\n",
      "(100, 2776, 2) (100, 75, 3)\n"
     ]
    },
    {
     "name": "stderr",
     "output_type": "stream",
     "text": [
      "100%|██████████| 150/150 [00:19<00:00,  7.51it/s]\n"
     ]
    },
    {
     "name": "stdout",
     "output_type": "stream",
     "text": [
      "Batch 9 of 100\n",
      "(100, 2776, 2) (100, 75, 3)\n"
     ]
    },
    {
     "name": "stderr",
     "output_type": "stream",
     "text": [
      "100%|██████████| 150/150 [00:20<00:00,  7.48it/s]\n"
     ]
    },
    {
     "name": "stdout",
     "output_type": "stream",
     "text": [
      "Batch 10 of 100\n",
      "(100, 2776, 2) (100, 75, 3)\n"
     ]
    },
    {
     "name": "stderr",
     "output_type": "stream",
     "text": [
      "100%|██████████| 150/150 [00:20<00:00,  7.33it/s]\n"
     ]
    },
    {
     "name": "stdout",
     "output_type": "stream",
     "text": [
      "Batch 11 of 100\n",
      "(100, 2776, 2) (100, 75, 3)\n"
     ]
    },
    {
     "name": "stderr",
     "output_type": "stream",
     "text": [
      "100%|██████████| 150/150 [00:20<00:00,  7.15it/s]\n"
     ]
    },
    {
     "name": "stdout",
     "output_type": "stream",
     "text": [
      "Batch 12 of 100\n",
      "(100, 2776, 2) (100, 75, 3)\n"
     ]
    },
    {
     "name": "stderr",
     "output_type": "stream",
     "text": [
      "100%|██████████| 150/150 [00:21<00:00,  7.07it/s]\n"
     ]
    },
    {
     "name": "stdout",
     "output_type": "stream",
     "text": [
      "Batch 13 of 100\n",
      "(100, 2776, 2) (100, 75, 3)\n"
     ]
    },
    {
     "name": "stderr",
     "output_type": "stream",
     "text": [
      "100%|██████████| 150/150 [00:20<00:00,  7.30it/s]\n"
     ]
    },
    {
     "name": "stdout",
     "output_type": "stream",
     "text": [
      "Batch 14 of 100\n",
      "(100, 2776, 2) (100, 75, 3)\n"
     ]
    },
    {
     "name": "stderr",
     "output_type": "stream",
     "text": [
      "100%|██████████| 150/150 [00:22<00:00,  6.74it/s]\n"
     ]
    },
    {
     "name": "stdout",
     "output_type": "stream",
     "text": [
      "Batch 15 of 100\n",
      "(100, 2776, 2) (100, 75, 3)\n"
     ]
    },
    {
     "name": "stderr",
     "output_type": "stream",
     "text": [
      "100%|██████████| 150/150 [00:20<00:00,  7.47it/s]\n"
     ]
    },
    {
     "name": "stdout",
     "output_type": "stream",
     "text": [
      "Batch 16 of 100\n",
      "(100, 2776, 2) (100, 75, 3)\n"
     ]
    },
    {
     "name": "stderr",
     "output_type": "stream",
     "text": [
      "100%|██████████| 150/150 [00:20<00:00,  7.46it/s]\n"
     ]
    },
    {
     "name": "stdout",
     "output_type": "stream",
     "text": [
      "Batch 17 of 100\n",
      "(100, 2776, 2) (100, 75, 3)\n"
     ]
    },
    {
     "name": "stderr",
     "output_type": "stream",
     "text": [
      "100%|██████████| 150/150 [00:19<00:00,  7.53it/s]\n"
     ]
    },
    {
     "name": "stdout",
     "output_type": "stream",
     "text": [
      "Batch 18 of 100\n",
      "(100, 2776, 2) (100, 75, 3)\n"
     ]
    },
    {
     "name": "stderr",
     "output_type": "stream",
     "text": [
      "100%|██████████| 150/150 [00:20<00:00,  7.45it/s]\n"
     ]
    },
    {
     "name": "stdout",
     "output_type": "stream",
     "text": [
      "Batch 19 of 100\n",
      "(100, 2776, 2) (100, 75, 3)\n"
     ]
    },
    {
     "name": "stderr",
     "output_type": "stream",
     "text": [
      "100%|██████████| 150/150 [00:22<00:00,  6.81it/s]\n"
     ]
    },
    {
     "name": "stdout",
     "output_type": "stream",
     "text": [
      "Batch 20 of 100\n",
      "(100, 2776, 2) (100, 75, 3)\n"
     ]
    },
    {
     "name": "stderr",
     "output_type": "stream",
     "text": [
      "100%|██████████| 150/150 [00:21<00:00,  6.89it/s]\n"
     ]
    },
    {
     "name": "stdout",
     "output_type": "stream",
     "text": [
      "Batch 21 of 100\n",
      "(100, 2776, 2) (100, 75, 3)\n"
     ]
    },
    {
     "name": "stderr",
     "output_type": "stream",
     "text": [
      "100%|██████████| 150/150 [00:23<00:00,  6.45it/s]\n"
     ]
    },
    {
     "name": "stdout",
     "output_type": "stream",
     "text": [
      "Batch 22 of 100\n",
      "(100, 2776, 2) (100, 75, 3)\n"
     ]
    },
    {
     "name": "stderr",
     "output_type": "stream",
     "text": [
      "100%|██████████| 150/150 [00:33<00:00,  4.51it/s]\n"
     ]
    },
    {
     "name": "stdout",
     "output_type": "stream",
     "text": [
      "Batch 23 of 100\n",
      "(100, 2776, 2) (100, 75, 3)\n"
     ]
    },
    {
     "name": "stderr",
     "output_type": "stream",
     "text": [
      "100%|██████████| 150/150 [00:21<00:00,  6.94it/s]\n"
     ]
    },
    {
     "name": "stdout",
     "output_type": "stream",
     "text": [
      "Batch 24 of 100\n",
      "(100, 2776, 2) (100, 75, 3)\n"
     ]
    },
    {
     "name": "stderr",
     "output_type": "stream",
     "text": [
      "100%|██████████| 150/150 [00:20<00:00,  7.17it/s]\n"
     ]
    },
    {
     "name": "stdout",
     "output_type": "stream",
     "text": [
      "Batch 25 of 100\n",
      "(100, 2776, 2) (100, 75, 3)\n"
     ]
    },
    {
     "name": "stderr",
     "output_type": "stream",
     "text": [
      "100%|██████████| 150/150 [00:23<00:00,  6.30it/s]\n"
     ]
    },
    {
     "name": "stdout",
     "output_type": "stream",
     "text": [
      "Batch 26 of 100\n",
      "(100, 2776, 2) (100, 75, 3)\n"
     ]
    },
    {
     "name": "stderr",
     "output_type": "stream",
     "text": [
      "100%|██████████| 150/150 [00:22<00:00,  6.82it/s]\n"
     ]
    },
    {
     "name": "stdout",
     "output_type": "stream",
     "text": [
      "Batch 27 of 100\n",
      "(100, 2776, 2) (100, 75, 3)\n"
     ]
    },
    {
     "name": "stderr",
     "output_type": "stream",
     "text": [
      "100%|██████████| 150/150 [00:22<00:00,  6.79it/s]\n"
     ]
    },
    {
     "name": "stdout",
     "output_type": "stream",
     "text": [
      "Batch 28 of 100\n",
      "(100, 2776, 2) (100, 75, 3)\n"
     ]
    },
    {
     "name": "stderr",
     "output_type": "stream",
     "text": [
      "100%|██████████| 150/150 [00:21<00:00,  6.99it/s]\n"
     ]
    },
    {
     "name": "stdout",
     "output_type": "stream",
     "text": [
      "Batch 29 of 100\n",
      "(100, 2776, 2) (100, 75, 3)\n"
     ]
    },
    {
     "name": "stderr",
     "output_type": "stream",
     "text": [
      " 82%|████████▏ | 123/150 [00:17<00:03,  6.91it/s]\n"
     ]
    },
    {
     "ename": "KeyboardInterrupt",
     "evalue": "",
     "output_type": "error",
     "traceback": [
      "\u001b[0;31m---------------------------------------------------------------------------\u001b[0m",
      "\u001b[0;31mKeyboardInterrupt\u001b[0m                         Traceback (most recent call last)",
      "Cell \u001b[0;32mIn[7], line 18\u001b[0m\n\u001b[1;32m     15\u001b[0m \u001b[38;5;28;01mfor\u001b[39;00m (i, start) \u001b[38;5;129;01min\u001b[39;00m (\u001b[38;5;28menumerate\u001b[39m(\u001b[38;5;28mrange\u001b[39m(\u001b[38;5;241m0\u001b[39m , N_events, batch_size))):\n\u001b[1;32m     17\u001b[0m     \u001b[38;5;28mprint\u001b[39m(\u001b[38;5;124m\"\u001b[39m\u001b[38;5;124mBatch\u001b[39m\u001b[38;5;124m\"\u001b[39m, i\u001b[38;5;241m+\u001b[39m\u001b[38;5;241m1\u001b[39m, \u001b[38;5;124m\"\u001b[39m\u001b[38;5;124mof\u001b[39m\u001b[38;5;124m\"\u001b[39m, N_events \u001b[38;5;241m/\u001b[39m\u001b[38;5;241m/\u001b[39m batch_size)\n\u001b[0;32m---> 18\u001b[0m     sEMDs[start:start\u001b[38;5;241m+\u001b[39mbatch_size], r, losses[:,start:start\u001b[38;5;241m+\u001b[39mbatch_size] \u001b[38;5;241m=\u001b[39m \u001b[43mcompute_events\u001b[49m\u001b[43m(\u001b[49m\u001b[43mdataset\u001b[49m\u001b[43m[\u001b[49m\u001b[43mstart\u001b[49m\u001b[43m:\u001b[49m\u001b[43mstart\u001b[49m\u001b[38;5;241;43m+\u001b[39;49m\u001b[43mbatch_size\u001b[49m\u001b[43m]\u001b[49m\u001b[43m,\u001b[49m\u001b[43m \u001b[49m\u001b[38;5;241;43m0.005\u001b[39;49m\u001b[43m,\u001b[49m\u001b[43m \u001b[49m\u001b[43mepochs\u001b[49m\u001b[43m,\u001b[49m\u001b[43m \u001b[49m\u001b[43mN_sample\u001b[49m\u001b[43m \u001b[49m\u001b[38;5;241;43m=\u001b[39;49m\u001b[43m \u001b[49m\u001b[38;5;241;43m30\u001b[39;49m\u001b[43m,\u001b[49m\u001b[43m \u001b[49m\u001b[43mfinite_difference\u001b[49m\u001b[38;5;241;43m=\u001b[39;49m\u001b[38;5;28;43;01mTrue\u001b[39;49;00m\u001b[43m)\u001b[49m\n\u001b[1;32m     19\u001b[0m     shape_events[\u001b[38;5;124m\"\u001b[39m\u001b[38;5;124mLength\u001b[39m\u001b[38;5;124m\"\u001b[39m][start:start\u001b[38;5;241m+\u001b[39mbatch_size] \u001b[38;5;241m=\u001b[39m r[\u001b[38;5;124m\"\u001b[39m\u001b[38;5;124mLength\u001b[39m\u001b[38;5;124m\"\u001b[39m]\n\u001b[1;32m     22\u001b[0m filename \u001b[38;5;241m=\u001b[39m \u001b[38;5;124mf\u001b[39m\u001b[38;5;124m\"\u001b[39m\u001b[38;5;132;01m{\u001b[39;00mthis_study\u001b[38;5;132;01m}\u001b[39;00m\u001b[38;5;124m_sEMDs.npy\u001b[39m\u001b[38;5;124m\"\u001b[39m\n",
      "Cell \u001b[0;32mIn[3], line 168\u001b[0m, in \u001b[0;36mcompute_events\u001b[0;34m(events, learning_rate, epochs, N_sample, finite_difference)\u001b[0m\n\u001b[1;32m    165\u001b[0m params \u001b[38;5;241m=\u001b[39m get_params(opt_state)\n\u001b[1;32m    166\u001b[0m params \u001b[38;5;241m=\u001b[39m vmapped_project(params)\n\u001b[0;32m--> 168\u001b[0m sEMD \u001b[38;5;241m=\u001b[39m \u001b[43mvmapped_train_step\u001b[49m\u001b[43m(\u001b[49m\u001b[43mepoch\u001b[49m\u001b[43m,\u001b[49m\u001b[43m \u001b[49m\u001b[43mspectral_event\u001b[49m\u001b[43m,\u001b[49m\u001b[43m \u001b[49m\u001b[43mparams\u001b[49m\u001b[43m,\u001b[49m\u001b[43mN_sample\u001b[49m\u001b[43m)\u001b[49m\n\u001b[1;32m    169\u001b[0m \u001b[38;5;28;01mif\u001b[39;00m  finite_difference:\n\u001b[1;32m    170\u001b[0m     grads \u001b[38;5;241m=\u001b[39m vmapped_finite_differences_gradient(epoch, sEMD, spectral_event, params, N_sample)\n",
      "\u001b[0;31mKeyboardInterrupt\u001b[0m: "
     ]
    }
   ],
   "source": [
    "\n",
    "\n",
    "sEMDs, shape_events, losses = compute_single_event(dataset[0])\n",
    "\n",
    "# # precompute\n",
    "# with jax.profiler.trace(\"/tmp/jax-trace-123\", create_perfetto_link=True):\n",
    "#     sEMDs, shape_events, losses = compute_events(dataset[:50], 0.001, 150, finite_difference=False)\n",
    "\n",
    "\n",
    "N_events = dataset.shape[0]\n",
    "batch_size = 100\n",
    "epochs = 150\n",
    "\n",
    "sEMDs = np.zeros((N_events,))\n",
    "shape_events = {\"Length\" : np.zeros((N_events,))}\n",
    "losses = np.zeros((epochs, N_events))\n",
    "for (i, start) in (enumerate(range(0 , N_events, batch_size))):\n",
    "\n",
    "    print(\"Batch\", i+1, \"of\", N_events // batch_size)\n",
    "    sEMDs[start:start+batch_size], r, losses[:,start:start+batch_size] = compute_events(dataset[start:start+batch_size], 0.005, epochs, N_sample = 30, finite_difference=True)\n",
    "    shape_events[\"Length\"][start:start+batch_size] = r[\"Length\"]\n",
    "\n",
    "\n",
    "filename = f\"{this_study}_sEMDs.npy\"\n",
    "save_dir = os.path.join(this_dir, filename)\n",
    "np.save(save_dir, sEMDs)\n",
    "\n",
    "filename = f\"{this_study}_params.npy\"\n",
    "save_dir = os.path.join(this_dir, filename)\n",
    "np.save(save_dir, shape_events[\"Length\"])\n",
    "\n",
    "# plot the average loss per epoch\n",
    "plt.plot(np.mean(losses, axis = -1))\n",
    "plt.yscale(\"log\")"
   ]
  },
  {
   "cell_type": "code",
   "execution_count": null,
   "metadata": {},
   "outputs": [
    {
     "name": "stdout",
     "output_type": "stream",
     "text": [
      "[0.00495231 0.00372879 0.00096667 ... 0.00101641 0.00211979 0.00394377] [0.09968356 0.00474852 0.0009588  ... 0.00150633 0.00301071 0.00510398]\n"
     ]
    },
    {
     "data": {
      "text/plain": [
       "<matplotlib.collections.PathCollection at 0x7f5174080d90>"
      ]
     },
     "execution_count": 8,
     "metadata": {},
     "output_type": "execute_result"
    },
    {
     "data": {
      "image/png": "[encoded data removed]",
      "text/plain": [
       "<Figure size 800x800 with 1 Axes>"
      ]
     },
     "metadata": {},
     "output_type": "display_data"
    }
   ],
   "source": [
    "sEMDs_closed_r = vmapped_closed_form_sEMD(dataset, shape_events[\"Length\"])\n",
    "\n",
    "print(sEMDs, sEMDs_closed_r)\n",
    "plt.scatter(sEMDs, sEMDs_closed_r)\n",
    "plt.scatter(sEMDs, r2)"
   ]
  },
  {
   "cell_type": "code",
   "execution_count": null,
   "metadata": {},
   "outputs": [
    {
     "name": "stdout",
     "output_type": "stream",
     "text": [
      "(10000,)\n",
      "[0.1        0.3442367  0.43424097 ... 0.32850531 0.2932584  0.30862194]\n"
     ]
    },
    {
     "data": {
      "text/plain": [
       "<matplotlib.legend.Legend at 0x7f515c62eac0>"
      ]
     },
     "execution_count": 9,
     "metadata": {},
     "output_type": "execute_result"
    },
    {
     "data": {
      "image/png": "[encoded data removed]",
      "text/plain": [
       "<Figure size 800x800 with 1 Axes>"
      ]
     },
     "metadata": {},
     "output_type": "display_data"
    }
   ],
   "source": [
    "print(sEMDs.shape)\n",
    "print(shape_events[\"Length\"])\n",
    "\n",
    "# Function to take a list of points and create a histogram of points with sqrt(N) errors, normalized to unit area\n",
    "def hist_with_errors(ax, points, bins, range, weights = None, **kwargs):\n",
    "\n",
    "    if weights is None:\n",
    "        weights = np.ones_like(points)\n",
    "\n",
    "    hist, bin_edges = np.histogram(points, bins = bins, range = range, weights = weights)\n",
    "    errs2 = np.histogram(points, bins = bins, range = range, weights = weights**2)[0] + 1\n",
    "\n",
    "    bin_centers = (bin_edges[:-1] + bin_edges[1:]) / 2\n",
    "    bin_widths = (bin_edges[1:] - bin_edges[:-1])\n",
    "\n",
    "    hist_tot = np.sum(hist * bin_widths)\n",
    "    hist = hist / hist_tot\n",
    "    errs2 = errs2 / (hist_tot**2)\n",
    "\n",
    "    ax.errorbar(bin_centers, hist, np.sqrt(errs2), xerr = bin_widths, fmt = \".\", **kwargs)\n",
    "\n",
    "\n",
    "\n",
    "fig, ax = newplot()\n",
    "hist_with_errors(ax, shape_events[\"Length\"], bins = 16, range = (0, 1), label = R\"Full $SPECTER$\")\n",
    "hist_with_errors(ax, closed_form_l, bins = 16, range = (0, 1), label = R\"Closed-Form $SPECTER$\")\n",
    "\n",
    "# plt.hist(shape_events[\"Length\"], bins = 16, range = (0, 1.6), density = True)\n",
    "plt.xlabel(\"Radius [sPringiness]\")\n",
    "plt.ylabel(\"Normalized Counts\")\n",
    "plt.legend(frameon = False, loc = \"upper left\")\n",
    "\n"
   ]
  },
  {
   "cell_type": "code",
   "execution_count": null,
   "metadata": {},
   "outputs": [],
   "source": []
  },
  {
   "cell_type": "markdown",
   "metadata": {},
   "source": [
    "# Closed Form Expressions"
   ]
  },
  {
   "cell_type": "code",
   "execution_count": null,
   "metadata": {},
   "outputs": [],
   "source": [
    "# closed_form_sEMDs = closed_form_2_spronginess(dataset, levels = 150)\n",
    "# print(closed_form_sEMDs)\n",
    "\n",
    "\n",
    "# filename = f\"{this_study}_closed_form_sEMDs.npy\"\n",
    "# save_dir = os.path.join(this_dir, filename)\n",
    "# np.save(save_dir, closed_form_sEMDs)"
   ]
  },
  {
   "cell_type": "markdown",
   "metadata": {},
   "source": [
    "# SHAPER"
   ]
  },
  {
   "cell_type": "code",
   "execution_count": 8,
   "metadata": {},
   "outputs": [
    {
     "name": "stdout",
     "output_type": "stream",
     "text": [
      "Using CPU!\n",
      "Observable: 1-Ellipsiness Epoch 0 Mean Loss = 0.004895707722945372 Elapsed time = 41.910s Percentage done = 0.000 \n",
      "Observable: 1-Ellipsiness Epoch 1 Mean Loss = 0.0047935756061284335 Elapsed time = 81.990s Percentage done = 0.000 \n",
      "Observable: 1-Ellipsiness Epoch 2 Mean Loss = 0.004703698332610656 Elapsed time = 122.931s Percentage done = 0.000 \n",
      "Observable: 1-Ellipsiness Epoch 3 Mean Loss = 0.004640288399768178 Elapsed time = 163.896s Percentage done = 0.000 \n",
      "Observable: 1-Ellipsiness Epoch 4 Mean Loss = 0.0045837835989252194 Elapsed time = 204.118s Percentage done = 0.000 \n",
      "Observable: 1-Ellipsiness Epoch 5 Mean Loss = 0.004545524291148468 Elapsed time = 248.639s Percentage done = 0.000 \n",
      "Observable: 1-Ellipsiness Epoch 6 Mean Loss = 0.004500938225408027 Elapsed time = 288.303s Percentage done = 0.000 \n",
      "Observable: 1-Ellipsiness Epoch 7 Mean Loss = 0.0044751550101711475 Elapsed time = 328.451s Percentage done = 0.000 \n",
      "Observable: 1-Ellipsiness Epoch 8 Mean Loss = 0.004448458803459653 Elapsed time = 368.536s Percentage done = 0.000 \n",
      "Observable: 1-Ellipsiness Epoch 9 Mean Loss = 0.00441914272284921 Elapsed time = 407.831s Percentage done = 0.000 \n",
      "Observable: 1-Ellipsiness Epoch 10 Mean Loss = 0.004400935017441225 Elapsed time = 448.296s Percentage done = 0.000 \n",
      "Observable: 1-Ellipsiness Epoch 11 Mean Loss = 0.004376960134154069 Elapsed time = 487.957s Percentage done = 0.000 \n",
      "Observable: 1-Ellipsiness Epoch 12 Mean Loss = 0.0043551344297258765 Elapsed time = 529.102s Percentage done = 0.000 \n",
      "Observable: 1-Ellipsiness Epoch 13 Mean Loss = 0.004328950101239025 Elapsed time = 569.473s Percentage done = 0.000 \n",
      "Observable: 1-Ellipsiness Epoch 14 Mean Loss = 0.004309172214844148 Elapsed time = 610.112s Percentage done = 0.000 \n",
      "Observable: 1-Ellipsiness Epoch 15 Mean Loss = 0.004292806169654796 Elapsed time = 651.082s Percentage done = 0.000 \n",
      "Observable: 1-Ellipsiness Epoch 16 Mean Loss = 0.004268927159439773 Elapsed time = 689.322s Percentage done = 0.000 \n",
      "Observable: 1-Ellipsiness Epoch 17 Mean Loss = 0.004242500114416179 Elapsed time = 727.637s Percentage done = 0.000 \n",
      "Observable: 1-Ellipsiness Epoch 18 Mean Loss = 0.00423199125881074 Elapsed time = 764.958s Percentage done = 0.000 \n",
      "Observable: 1-Ellipsiness Epoch 19 Mean Loss = 0.004208063973624667 Elapsed time = 801.996s Percentage done = 0.000 \n",
      "Observable: 1-Ellipsiness Epoch 20 Mean Loss = 0.0041837639857680185 Elapsed time = 839.071s Percentage done = 0.000 \n",
      "Observable: 1-Ellipsiness Epoch 21 Mean Loss = 0.004164330992213218 Elapsed time = 876.729s Percentage done = 0.000 \n",
      "Observable: 1-Ellipsiness Epoch 22 Mean Loss = 0.004144382727958873 Elapsed time = 916.278s Percentage done = 0.000 \n",
      "Observable: 1-Ellipsiness Epoch 23 Mean Loss = 0.004127556229933544 Elapsed time = 954.157s Percentage done = 0.000 \n",
      "Observable: 1-Ellipsiness Epoch 24 Mean Loss = 0.004105553211384541 Elapsed time = 992.369s Percentage done = 0.000 \n",
      "Observable: 1-Ellipsiness Epoch 25 Mean Loss = 0.004093552368305245 Elapsed time = 1030.253s Percentage done = 0.000 \n",
      "Observable: 1-Ellipsiness Epoch 26 Mean Loss = 0.0040799255613404965 Elapsed time = 1067.953s Percentage done = 0.740 \n",
      "Observable: 1-Ellipsiness Epoch 27 Mean Loss = 0.004063350234249083 Elapsed time = 1108.815s Percentage done = 1.570 \n",
      "Observable: 1-Ellipsiness Epoch 28 Mean Loss = 0.004044130619419593 Elapsed time = 1148.145s Percentage done = 2.530 \n",
      "Observable: 1-Ellipsiness Epoch 29 Mean Loss = 0.004023354447472229 Elapsed time = 1184.961s Percentage done = 3.640 \n",
      "Observable: 1-Ellipsiness Epoch 30 Mean Loss = 0.004008926104004786 Elapsed time = 1223.634s Percentage done = 4.800 \n",
      "Observable: 1-Ellipsiness Epoch 31 Mean Loss = 0.00399553147749757 Elapsed time = 1261.215s Percentage done = 5.820 \n",
      "Observable: 1-Ellipsiness Epoch 32 Mean Loss = 0.00397992515460719 Elapsed time = 1299.102s Percentage done = 7.090 \n",
      "Observable: 1-Ellipsiness Epoch 33 Mean Loss = 0.003969529028268153 Elapsed time = 1335.211s Percentage done = 8.510 \n",
      "Observable: 1-Ellipsiness Epoch 34 Mean Loss = 0.003961029751317983 Elapsed time = 1372.207s Percentage done = 9.840 \n",
      "Observable: 1-Ellipsiness Epoch 35 Mean Loss = 0.003943119802627189 Elapsed time = 1408.496s Percentage done = 10.940 \n",
      "Observable: 1-Ellipsiness Epoch 36 Mean Loss = 0.003925838523301355 Elapsed time = 1444.530s Percentage done = 11.710 \n",
      "Observable: 1-Ellipsiness Epoch 37 Mean Loss = 0.003912518519673904 Elapsed time = 1479.361s Percentage done = 12.440 \n",
      "Observable: 1-Ellipsiness Epoch 38 Mean Loss = 0.0039094932461724964 Elapsed time = 1515.564s Percentage done = 13.230 \n",
      "Observable: 1-Ellipsiness Epoch 39 Mean Loss = 0.0038992040028286283 Elapsed time = 1551.890s Percentage done = 14.010 \n",
      "Observable: 1-Ellipsiness Epoch 40 Mean Loss = 0.0038784783892318957 Elapsed time = 1587.532s Percentage done = 15.130 \n",
      "Observable: 1-Ellipsiness Epoch 41 Mean Loss = 0.0038750298715298412 Elapsed time = 1622.979s Percentage done = 16.060 \n",
      "Observable: 1-Ellipsiness Epoch 42 Mean Loss = 0.0038692789928798446 Elapsed time = 1657.927s Percentage done = 17.020 \n",
      "Observable: 1-Ellipsiness Epoch 43 Mean Loss = 0.00384292710347363 Elapsed time = 1694.262s Percentage done = 18.030 \n",
      "Observable: 1-Ellipsiness Epoch 44 Mean Loss = 0.0038381643278422414 Elapsed time = 1729.742s Percentage done = 19.110 \n",
      "Observable: 1-Ellipsiness Epoch 45 Mean Loss = 0.0038244721719398514 Elapsed time = 1764.165s Percentage done = 20.100 \n",
      "Observable: 1-Ellipsiness Epoch 46 Mean Loss = 0.003810411723652214 Elapsed time = 1795.729s Percentage done = 20.960 \n",
      "Observable: 1-Ellipsiness Epoch 47 Mean Loss = 0.0038016891774066606 Elapsed time = 1825.853s Percentage done = 22.060 \n",
      "Observable: 1-Ellipsiness Epoch 48 Mean Loss = 0.0037867956982183385 Elapsed time = 1855.863s Percentage done = 23.110 \n",
      "Observable: 1-Ellipsiness Epoch 49 Mean Loss = 0.0037839558962281445 Elapsed time = 1888.251s Percentage done = 24.320 \n",
      "Observable: 1-Ellipsiness Epoch 50 Mean Loss = 0.0037665285540148035 Elapsed time = 1917.821s Percentage done = 25.420 \n",
      "Observable: 1-Ellipsiness Epoch 51 Mean Loss = 0.003759554518222285 Elapsed time = 1947.832s Percentage done = 26.440 \n",
      "Observable: 1-Ellipsiness Epoch 52 Mean Loss = 0.0037461779080404083 Elapsed time = 1979.081s Percentage done = 27.440 \n",
      "Observable: 1-Ellipsiness Epoch 53 Mean Loss = 0.0037352135835404623 Elapsed time = 2010.820s Percentage done = 28.430 \n",
      "Observable: 1-Ellipsiness Epoch 54 Mean Loss = 0.003731852185296884 Elapsed time = 2041.145s Percentage done = 29.530 \n",
      "Observable: 1-Ellipsiness Epoch 55 Mean Loss = 0.0037185664765696856 Elapsed time = 2071.296s Percentage done = 30.500 \n",
      "Observable: 1-Ellipsiness Epoch 56 Mean Loss = 0.003712181665764365 Elapsed time = 2099.981s Percentage done = 31.500 \n",
      "Observable: 1-Ellipsiness Epoch 57 Mean Loss = 0.003703598148301535 Elapsed time = 2129.830s Percentage done = 32.600 \n",
      "Observable: 1-Ellipsiness Epoch 58 Mean Loss = 0.0036866961220788654 Elapsed time = 2159.161s Percentage done = 33.510 \n",
      "Observable: 1-Ellipsiness Epoch 59 Mean Loss = 0.0036825127820062334 Elapsed time = 2187.308s Percentage done = 34.520 \n",
      "Observable: 1-Ellipsiness Epoch 60 Mean Loss = 0.0036725363569843467 Elapsed time = 2214.300s Percentage done = 35.500 \n",
      "Observable: 1-Ellipsiness Epoch 61 Mean Loss = 0.0036631885764640175 Elapsed time = 2242.130s Percentage done = 36.530 \n",
      "Observable: 1-Ellipsiness Epoch 62 Mean Loss = 0.003649991170341673 Elapsed time = 2269.559s Percentage done = 37.510 \n",
      "Observable: 1-Ellipsiness Epoch 63 Mean Loss = 0.0036398776193716912 Elapsed time = 2296.915s Percentage done = 38.490 \n",
      "Observable: 1-Ellipsiness Epoch 64 Mean Loss = 0.003635798087059811 Elapsed time = 2323.938s Percentage done = 39.380 \n",
      "Observable: 1-Ellipsiness Epoch 65 Mean Loss = 0.0036323964025461466 Elapsed time = 2350.678s Percentage done = 40.350 \n",
      "Observable: 1-Ellipsiness Epoch 66 Mean Loss = 0.003621318793670798 Elapsed time = 2376.570s Percentage done = 41.290 \n",
      "Observable: 1-Ellipsiness Epoch 67 Mean Loss = 0.003617118300111906 Elapsed time = 2402.166s Percentage done = 41.930 \n",
      "Observable: 1-Ellipsiness Epoch 68 Mean Loss = 0.0036135678578415537 Elapsed time = 2428.384s Percentage done = 42.780 \n",
      "Observable: 1-Ellipsiness Epoch 69 Mean Loss = 0.003601445773062005 Elapsed time = 2453.808s Percentage done = 43.560 \n",
      "Observable: 1-Ellipsiness Epoch 70 Mean Loss = 0.0035945011632036766 Elapsed time = 2478.208s Percentage done = 44.350 \n",
      "Observable: 1-Ellipsiness Epoch 71 Mean Loss = 0.003584950252981798 Elapsed time = 2502.281s Percentage done = 45.230 \n",
      "Observable: 1-Ellipsiness Epoch 72 Mean Loss = 0.003575369419743947 Elapsed time = 2526.396s Percentage done = 46.020 \n",
      "Observable: 1-Ellipsiness Epoch 73 Mean Loss = 0.003567327515575744 Elapsed time = 2550.651s Percentage done = 46.870 \n",
      "Observable: 1-Ellipsiness Epoch 74 Mean Loss = 0.003559528823047003 Elapsed time = 2573.568s Percentage done = 47.650 \n",
      "Observable: 1-Ellipsiness Epoch 75 Mean Loss = 0.0035637851071558544 Elapsed time = 2597.353s Percentage done = 48.370 \n",
      "Observable: 1-Ellipsiness Epoch 76 Mean Loss = 0.003548938583531708 Elapsed time = 2620.931s Percentage done = 49.110 \n",
      "Observable: 1-Ellipsiness Epoch 77 Mean Loss = 0.003552908368049248 Elapsed time = 2643.093s Percentage done = 49.990 \n",
      "Observable: 1-Ellipsiness Epoch 78 Mean Loss = 0.0035387445535321606 Elapsed time = 2665.464s Percentage done = 50.790 \n",
      "Observable: 1-Ellipsiness Epoch 79 Mean Loss = 0.003535450237947225 Elapsed time = 2687.615s Percentage done = 51.640 \n",
      "Observable: 1-Ellipsiness Epoch 80 Mean Loss = 0.0035240035077513314 Elapsed time = 2709.982s Percentage done = 52.430 \n",
      "Observable: 1-Ellipsiness Epoch 81 Mean Loss = 0.0035234939425587072 Elapsed time = 2731.622s Percentage done = 53.250 \n",
      "Observable: 1-Ellipsiness Epoch 82 Mean Loss = 0.003514622587572376 Elapsed time = 2752.956s Percentage done = 53.870 \n",
      "Observable: 1-Ellipsiness Epoch 83 Mean Loss = 0.0035089907602683526 Elapsed time = 2774.583s Percentage done = 54.680 \n",
      "Observable: 1-Ellipsiness Epoch 84 Mean Loss = 0.0035089810070305246 Elapsed time = 2795.123s Percentage done = 55.360 \n",
      "Observable: 1-Ellipsiness Epoch 85 Mean Loss = 0.003503501978171698 Elapsed time = 2814.793s Percentage done = 55.990 \n",
      "Observable: 1-Ellipsiness Epoch 86 Mean Loss = 0.003498515569664596 Elapsed time = 2834.764s Percentage done = 56.710 \n",
      "Observable: 1-Ellipsiness Epoch 87 Mean Loss = 0.003492888532466895 Elapsed time = 2854.060s Percentage done = 57.390 \n",
      "Observable: 1-Ellipsiness Epoch 88 Mean Loss = 0.003483635849454731 Elapsed time = 2873.050s Percentage done = 58.220 \n",
      "Observable: 1-Ellipsiness Epoch 89 Mean Loss = 0.0034835667570572697 Elapsed time = 2891.735s Percentage done = 58.940 \n",
      "Observable: 1-Ellipsiness Epoch 90 Mean Loss = 0.0034791808835274423 Elapsed time = 2910.117s Percentage done = 59.640 \n",
      "Observable: 1-Ellipsiness Epoch 91 Mean Loss = 0.003477807507060061 Elapsed time = 2928.379s Percentage done = 60.170 \n",
      "Observable: 1-Ellipsiness Epoch 92 Mean Loss = 0.0034733337377736463 Elapsed time = 2946.497s Percentage done = 60.890 \n",
      "Observable: 1-Ellipsiness Epoch 93 Mean Loss = 0.0034659912017421446 Elapsed time = 2964.582s Percentage done = 61.400 \n",
      "Observable: 1-Ellipsiness Epoch 94 Mean Loss = 0.0034670387054226014 Elapsed time = 2983.071s Percentage done = 61.960 \n",
      "Observable: 1-Ellipsiness Epoch 95 Mean Loss = 0.00345781007064943 Elapsed time = 3000.986s Percentage done = 62.520 \n",
      "Observable: 1-Ellipsiness Epoch 96 Mean Loss = 0.0034655934167458326 Elapsed time = 3018.834s Percentage done = 63.070 \n",
      "Observable: 1-Ellipsiness Epoch 97 Mean Loss = 0.003454752656053461 Elapsed time = 3036.296s Percentage done = 63.590 \n",
      "Observable: 1-Ellipsiness Epoch 98 Mean Loss = 0.003448855481298233 Elapsed time = 3053.451s Percentage done = 64.270 \n",
      "Observable: 1-Ellipsiness Epoch 99 Mean Loss = 0.0034497766300090006 Elapsed time = 3070.643s Percentage done = 64.910 \n",
      "Observable: 1-Ellipsiness Epoch 100 Mean Loss = 0.003444042217380775 Elapsed time = 3086.511s Percentage done = 65.460 \n",
      "Observable: 1-Ellipsiness Epoch 101 Mean Loss = 0.003445860232099949 Elapsed time = 3102.053s Percentage done = 66.040 \n",
      "Observable: 1-Ellipsiness Epoch 102 Mean Loss = 0.0034399844803570884 Elapsed time = 3116.975s Percentage done = 66.590 \n",
      "Observable: 1-Ellipsiness Epoch 103 Mean Loss = 0.0034445905283399044 Elapsed time = 3132.040s Percentage done = 67.120 \n",
      "Observable: 1-Ellipsiness Epoch 104 Mean Loss = 0.003442854042215913 Elapsed time = 3145.989s Percentage done = 67.780 \n",
      "Observable: 1-Ellipsiness Epoch 105 Mean Loss = 0.0034378236867094528 Elapsed time = 3160.243s Percentage done = 68.450 \n",
      "Observable: 1-Ellipsiness Epoch 106 Mean Loss = 0.003431630039155425 Elapsed time = 3173.628s Percentage done = 68.990 \n",
      "Observable: 1-Ellipsiness Epoch 107 Mean Loss = 0.0034289673780629527 Elapsed time = 3187.067s Percentage done = 69.570 \n",
      "Observable: 1-Ellipsiness Epoch 108 Mean Loss = 0.003424979460342729 Elapsed time = 3200.400s Percentage done = 70.270 \n",
      "Observable: 1-Ellipsiness Epoch 109 Mean Loss = 0.00342745314186468 Elapsed time = 3212.829s Percentage done = 70.890 \n",
      "Observable: 1-Ellipsiness Epoch 110 Mean Loss = 0.003426775596268999 Elapsed time = 3225.295s Percentage done = 71.390 \n",
      "Observable: 1-Ellipsiness Epoch 111 Mean Loss = 0.00342299975403148 Elapsed time = 3238.179s Percentage done = 72.000 \n",
      "Observable: 1-Ellipsiness Epoch 112 Mean Loss = 0.0034228508659361976 Elapsed time = 3251.245s Percentage done = 72.450 \n",
      "Observable: 1-Ellipsiness Epoch 113 Mean Loss = 0.0034234265179096837 Elapsed time = 3264.122s Percentage done = 73.030 \n",
      "Observable: 1-Ellipsiness Epoch 114 Mean Loss = 0.0034207413187556084 Elapsed time = 3276.837s Percentage done = 73.510 \n",
      "Observable: 1-Ellipsiness Epoch 115 Mean Loss = 0.0034191114250934334 Elapsed time = 3288.758s Percentage done = 74.210 \n",
      "Observable: 1-Ellipsiness Epoch 116 Mean Loss = 0.0034171735486466788 Elapsed time = 3300.793s Percentage done = 74.770 \n",
      "Observable: 1-Ellipsiness Epoch 117 Mean Loss = 0.003417277191737958 Elapsed time = 3311.826s Percentage done = 75.230 \n",
      "Observable: 1-Ellipsiness Epoch 118 Mean Loss = 0.003414114060108841 Elapsed time = 3322.411s Percentage done = 75.760 \n",
      "Observable: 1-Ellipsiness Epoch 119 Mean Loss = 0.0034152374781740947 Elapsed time = 3332.399s Percentage done = 76.530 \n",
      "Observable: 1-Ellipsiness Epoch 120 Mean Loss = 0.003413815099299245 Elapsed time = 3342.128s Percentage done = 77.030 \n",
      "Observable: 1-Ellipsiness Epoch 121 Mean Loss = 0.003417284170513449 Elapsed time = 3352.367s Percentage done = 77.660 \n",
      "Observable: 1-Ellipsiness Epoch 122 Mean Loss = 0.0034106757040775846 Elapsed time = 3362.893s Percentage done = 78.190 \n",
      "Observable: 1-Ellipsiness Epoch 123 Mean Loss = 0.0034073460306288327 Elapsed time = 3372.179s Percentage done = 78.850 \n",
      "Observable: 1-Ellipsiness Epoch 124 Mean Loss = 0.003418310658961127 Elapsed time = 3381.028s Percentage done = 79.510 \n",
      "Observable: 1-Ellipsiness Epoch 125 Mean Loss = 0.00341374136130471 Elapsed time = 3390.198s Percentage done = 79.940 \n",
      "Observable: 1-Ellipsiness Epoch 126 Mean Loss = 0.003410527629232092 Elapsed time = 3398.663s Percentage done = 80.400 \n",
      "Observable: 1-Ellipsiness Epoch 127 Mean Loss = 0.0034103891851540538 Elapsed time = 3407.625s Percentage done = 80.940 \n",
      "Observable: 1-Ellipsiness Epoch 128 Mean Loss = 0.003409829774974787 Elapsed time = 3415.783s Percentage done = 81.440 \n",
      "Observable: 1-Ellipsiness Epoch 129 Mean Loss = 0.0034093856803447124 Elapsed time = 3423.834s Percentage done = 81.910 \n",
      "Observable: 1-Ellipsiness Epoch 130 Mean Loss = 0.0034111800389699056 Elapsed time = 3431.030s Percentage done = 82.420 \n",
      "Observable: 1-Ellipsiness Epoch 131 Mean Loss = 0.0034064787524184796 Elapsed time = 3438.400s Percentage done = 82.800 \n",
      "Observable: 1-Ellipsiness Epoch 132 Mean Loss = 0.003409909408974636 Elapsed time = 3445.442s Percentage done = 83.350 \n",
      "Observable: 1-Ellipsiness Epoch 133 Mean Loss = 0.003406390640682366 Elapsed time = 3452.315s Percentage done = 83.790 \n",
      "Observable: 1-Ellipsiness Epoch 134 Mean Loss = 0.0034073378712972044 Elapsed time = 3459.243s Percentage done = 84.260 \n",
      "Observable: 1-Ellipsiness Epoch 135 Mean Loss = 0.0034091595326302924 Elapsed time = 3466.362s Percentage done = 84.710 \n",
      "Observable: 1-Ellipsiness Epoch 136 Mean Loss = 0.003407680061350402 Elapsed time = 3473.359s Percentage done = 85.240 \n",
      "Observable: 1-Ellipsiness Epoch 137 Mean Loss = 0.0034053308183691114 Elapsed time = 3479.256s Percentage done = 85.670 \n",
      "Observable: 1-Ellipsiness Epoch 138 Mean Loss = 0.003408375653800613 Elapsed time = 3484.929s Percentage done = 86.150 \n",
      "Observable: 1-Ellipsiness Epoch 139 Mean Loss = 0.003410197922766383 Elapsed time = 3491.170s Percentage done = 86.570 \n",
      "Observable: 1-Ellipsiness Epoch 140 Mean Loss = 0.0034048457644254085 Elapsed time = 3496.466s Percentage done = 87.000 \n",
      "Observable: 1-Ellipsiness Epoch 141 Mean Loss = 0.0034048020199275923 Elapsed time = 3501.795s Percentage done = 87.500 \n",
      "Observable: 1-Ellipsiness Epoch 142 Mean Loss = 0.0034038567182273255 Elapsed time = 3506.838s Percentage done = 87.870 \n",
      "Observable: 1-Ellipsiness Epoch 143 Mean Loss = 0.0034058959585629056 Elapsed time = 3511.574s Percentage done = 88.360 \n",
      "Observable: 1-Ellipsiness Epoch 144 Mean Loss = 0.003405434389032598 Elapsed time = 3516.209s Percentage done = 88.780 \n",
      "Observable: 1-Ellipsiness Epoch 145 Mean Loss = 0.0034090109650496744 Elapsed time = 3520.761s Percentage done = 89.140 \n",
      "Observable: 1-Ellipsiness Epoch 146 Mean Loss = 0.0034087787590324297 Elapsed time = 3525.002s Percentage done = 89.600 \n",
      "Observable: 1-Ellipsiness Epoch 147 Mean Loss = 0.0034046270951264886 Elapsed time = 3529.102s Percentage done = 90.070 \n",
      "Observable: 1-Ellipsiness Epoch 148 Mean Loss = 0.0034047028323766428 Elapsed time = 3533.157s Percentage done = 90.460 \n",
      "Observable: 1-Ellipsiness Epoch 149 Mean Loss = 0.0034050452194162063 Elapsed time = 3536.966s Percentage done = 90.990 \n",
      "Observable: 1-Ellipsiness Epoch 150 Mean Loss = 0.0034034304664164665 Elapsed time = 3540.607s Percentage done = 91.360 \n",
      "Observable: 1-Ellipsiness Epoch 151 Mean Loss = 0.0034055897643600476 Elapsed time = 3544.183s Percentage done = 91.740 \n",
      "Observable: 1-Ellipsiness Epoch 152 Mean Loss = 0.0034045240196734087 Elapsed time = 3547.579s Percentage done = 91.980 \n",
      "Observable: 1-Ellipsiness Epoch 153 Mean Loss = 0.0034068173992141963 Elapsed time = 3550.937s Percentage done = 92.250 \n",
      "Observable: 1-Ellipsiness Epoch 154 Mean Loss = 0.003405439785636554 Elapsed time = 3554.120s Percentage done = 92.600 \n",
      "Observable: 1-Ellipsiness Epoch 155 Mean Loss = 0.0034033725911562216 Elapsed time = 3557.103s Percentage done = 92.880 \n",
      "Observable: 1-Ellipsiness Epoch 156 Mean Loss = 0.00340462851079501 Elapsed time = 3560.007s Percentage done = 93.200 \n",
      "Observable: 1-Ellipsiness Epoch 157 Mean Loss = 0.0034082772906214812 Elapsed time = 3562.908s Percentage done = 93.540 \n",
      "Observable: 1-Ellipsiness Epoch 158 Mean Loss = 0.003406432608717296 Elapsed time = 3565.584s Percentage done = 93.840 \n",
      "Observable: 1-Ellipsiness Epoch 159 Mean Loss = 0.0034048656491751897 Elapsed time = 3568.140s Percentage done = 94.090 \n",
      "Observable: 1-Ellipsiness Epoch 160 Mean Loss = 0.003403677903189964 Elapsed time = 3570.643s Percentage done = 94.390 \n",
      "Observable: 1-Ellipsiness Epoch 161 Mean Loss = 0.003406115917173156 Elapsed time = 3573.351s Percentage done = 94.630 \n",
      "Observable: 1-Ellipsiness Epoch 162 Mean Loss = 0.0034055671768655886 Elapsed time = 3575.535s Percentage done = 94.940 \n",
      "Done!\n",
      "0.3293363\n"
     ]
    },
    {
     "data": {
      "image/png": "[encoded data removed]",
      "text/plain": [
       "<Figure size 800x800 with 1 Axes>"
      ]
     },
     "metadata": {},
     "output_type": "display_data"
    }
   ],
   "source": [
    "# SHAPER\n",
    "from pyshaper.CommonObservables import buildCommmonObservables\n",
    "from pyshaper.Observables import Observable\n",
    "from pyshaper.Shaper import Shaper\n",
    "\n",
    "# Necessary GPU nonsense\n",
    "import torch \n",
    "\n",
    "if torch.cuda.is_available():  \n",
    "    dev = \"cuda:0\" \n",
    "    print(\"Using GPU!\")\n",
    "else:  \n",
    "    dev = \"cpu\"  \n",
    "    print(\"Using CPU!\")\n",
    "device = torch.device(dev) \n",
    "\n",
    "\n",
    "# Generate new events\n",
    "\n",
    "R = 1.0\n",
    "N = 180\n",
    "angles = np.linspace(0, np.pi, N)\n",
    "energies = np.linspace(0, 1, N)\n",
    "\n",
    "events = []\n",
    "for i in range(dataset.shape[0]):\n",
    "\n",
    "    event = dataset[i]\n",
    "\n",
    "    zs = event[:,0]\n",
    "    points = event[:,1:3]\n",
    "\n",
    "    events.append((points, zs))\n",
    "\n",
    "\n",
    "# EMDs\n",
    "\n",
    "commonObservables, pointers = buildCommmonObservables(N = 3, beta = 2, R = R, device = device)\n",
    "_1ellipsiness = commonObservables[\"1-Ellipsiness\"]\n",
    "\n",
    "# Default value_2subjettiness\n",
    "_1ellipsiness.params[\"Radius1\"].default_value = torch.tensor([.1,])\n",
    "_1ellipsiness.freeze(\"Radius2\", torch.tensor([0.0001,]))\n",
    "_1ellipsiness.freeze(\"Points\", torch.zeros((1, 2)))\n",
    "\n",
    "\n",
    "\n",
    "# Collect our observables in one dictionary\n",
    "observables = {}\n",
    "observables[\"1-Ellipsiness\"] = _1ellipsiness\n",
    "\n",
    "\n",
    "# Initialize SHAPER\n",
    "shaper = Shaper(observables, device)\n",
    "shaper.to(device)\n",
    "\n",
    "\n",
    "EMDs = []\n",
    "params = []\n",
    "\n",
    "\n",
    "dataset_emds, dataset_params = shaper.calculate(events, epochs = 500, verbose=True, lr = 0.01, N = 50, scaling = 0.9, epsilon = 0.001, early_stopping= 25)\n",
    "for j in range(dataset.shape[0]):\n",
    "    e = dataset_params[\"1-Ellipsiness\"][j][\"EMD\"]\n",
    "    EMDs.append(e)\n",
    "    params.append(2 * dataset_params[\"1-Ellipsiness\"][j][\"Radius1\"])\n",
    "\n",
    "\n",
    "EMDs = np.array(EMDs)\n",
    "params = np.array(params)\n",
    "\n",
    "\n",
    "plt.hist(params)\n",
    "print(np.mean(params))\n",
    "\n",
    "filename = f\"{this_study}_shaper_EMDs.npy\"\n",
    "save_dir = os.path.join(this_dir, filename)\n",
    "np.save(save_dir, EMDs)\n",
    "\n",
    "filename = f\"{this_study}_shaper_params.npy\"\n",
    "save_dir = os.path.join(this_dir, filename)\n",
    "np.save(save_dir, params)"
   ]
  },
  {
   "cell_type": "markdown",
   "metadata": {},
   "source": [
    "# Plots"
   ]
  },
  {
   "cell_type": "code",
   "execution_count": 1,
   "metadata": {},
   "outputs": [
    {
     "ename": "NameError",
     "evalue": "name 'newplot' is not defined",
     "output_type": "error",
     "traceback": [
      "\u001b[0;31m---------------------------------------------------------------------------\u001b[0m",
      "\u001b[0;31mNameError\u001b[0m                                 Traceback (most recent call last)",
      "Cell \u001b[0;32mIn[1], line 1\u001b[0m\n\u001b[0;32m----> 1\u001b[0m fig, ax \u001b[38;5;241m=\u001b[39m \u001b[43mnewplot\u001b[49m()\n\u001b[1;32m      3\u001b[0m \u001b[38;5;66;03m# Load numpy data\u001b[39;00m\n\u001b[1;32m      4\u001b[0m sEMDs \u001b[38;5;241m=\u001b[39m np\u001b[38;5;241m.\u001b[39mload(os\u001b[38;5;241m.\u001b[39mpath\u001b[38;5;241m.\u001b[39mjoin(this_dir, \u001b[38;5;124mf\u001b[39m\u001b[38;5;124m\"\u001b[39m\u001b[38;5;132;01m{\u001b[39;00mthis_study\u001b[38;5;132;01m}\u001b[39;00m\u001b[38;5;124m_sEMDs.npy\u001b[39m\u001b[38;5;124m\"\u001b[39m))\n",
      "\u001b[0;31mNameError\u001b[0m: name 'newplot' is not defined"
     ]
    }
   ],
   "source": [
    "fig, ax = newplot()\n",
    "\n",
    "# Load numpy data\n",
    "sEMDs = np.load(os.path.join(this_dir, f\"{this_study}_sEMDs.npy\"))\n",
    "closed_form_sEMDs = np.load(os.path.join(this_dir, f\"{this_study}_closed_form_sEMDs.npy\"))\n",
    "EMDs = np.load(os.path.join(this_dir, f\"{this_study}_shaper_EMDs.npy\"))\n",
    "\n",
    "\n",
    "plt.scatter(2 * EMDs**2, closed_form_sEMDs, color = \"red\", alpha = 0.5)\n",
    "plt.scatter(2 * EMDs**2,  sEMDs, color = \"blue\", alpha = 0.5)\n",
    "\n",
    "\n",
    "\n",
    "plt.xscale(\"log\")\n",
    "plt.yscale(\"log\")\n",
    "plt.xlabel(\"2-Subjettiness ($SHAPER$)\")\n",
    "plt.ylabel(\"2-Sprubjetiness ($SPECTER$)\")\n",
    "\n",
    "# Dashed line at y = x\n",
    "x = np.linspace(0, np.max(sEMDs), 100)\n",
    "plt.plot(x, x, linestyle = \"--\", color = \"black\")\n",
    "\n",
    "# print the MSE in the top left\n",
    "mse = np.mean((np.maximum(sEMDs, 0) - closed_form_sEMDs)**2)\n",
    "plt.text(0.05, 0.95, \"MSE: %.3e\\n1000 Events\" % mse, transform=ax.transAxes, fontsize=14,)\n",
    "\n",
    "# print the percentage of events that differ by more than temp1%\n",
    "diff = (sEMDs - (2 * EMDs**2)) / (2 * EMDs**2)\n",
    "print(np.sum(diff > 0.10))\n",
    "# plt.scatter(np.maximum(sEMDs, 0)[diff > 0.10], closed_form_sEMDs[diff > 0.10])\n",
    "\n",
    "# ax.set_aspect('equal')"
   ]
  },
  {
   "cell_type": "code",
   "execution_count": null,
   "metadata": {},
   "outputs": [
    {
     "data": {
      "text/plain": [
       "Text(0.5, 0, 'Fractional Error')"
      ]
     },
     "execution_count": 13,
     "metadata": {},
     "output_type": "execute_result"
    },
    {
     "data": {
      "image/png": "[encoded data removed]",
      "text/plain": [
       "<Figure size 800x800 with 1 Axes>"
      ]
     },
     "metadata": {},
     "output_type": "display_data"
    }
   ],
   "source": [
    "# Plot a histogram of the differences\n",
    "fig, ax = newplot()\n",
    "plt.hist(diff, bins = 50 )\n",
    "\n",
    "# plt.xscale(\"log\")\n",
    "plt.yscale(\"log\")\n",
    "\n",
    "plt.xlabel(\"Fractional Error\")\n"
   ]
  },
  {
   "cell_type": "code",
   "execution_count": null,
   "metadata": {},
   "outputs": [],
   "source": []
  }
 ],
 "metadata": {
  "kernelspec": {
   "display_name": "SHAPER",
   "language": "python",
   "name": "python3"
  },
  "language_info": {
   "codemirror_mode": {
    "name": "ipython",
    "version": 3
   },
   "file_extension": ".py",
   "mimetype": "text/x-python",
   "name": "python",
   "nbconvert_exporter": "python",
   "pygments_lexer": "ipython3",
   "version": "3.8.2"
  }
 },
 "nbformat": 4,
 "nbformat_minor": 2
}
