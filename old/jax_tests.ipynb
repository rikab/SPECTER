{
 "cells": [
  {
   "cell_type": "code",
   "execution_count": 1,
   "metadata": {},
   "outputs": [],
   "source": [
    "import jax\n",
    "import jax.numpy as jnp"
   ]
  },
  {
   "cell_type": "code",
   "execution_count": 2,
   "metadata": {},
   "outputs": [
    {
     "name": "stderr",
     "output_type": "stream",
     "text": [
      "No GPU/TPU found, falling back to CPU. (Set TF_CPP_MIN_LOG_LEVEL=0 and rerun for more info.)\n"
     ]
    },
    {
     "name": "stdout",
     "output_type": "stream",
     "text": [
      "False\n",
      "1.25 ms ± 18.9 µs per loop (mean ± std. dev. of 7 runs, 1,000 loops each)\n",
      "False\n"
     ]
    }
   ],
   "source": [
    "\n",
    "def selu(x, alpha=1.67, lambda_=1.05):\n",
    "  return lambda_ * jnp.where(x > 0, x, alpha * jnp.exp(x) - alpha)\n",
    "\n",
    "x = jnp.arange(1000000)\n",
    "\n",
    "print(hasattr(selu, 'jaxpr'))\n",
    "%timeit selu(x).block_until_ready()\n",
    "print(hasattr(selu, 'jaxpr'))\n"
   ]
  },
  {
   "cell_type": "code",
   "execution_count": 3,
   "metadata": {},
   "outputs": [
    {
     "name": "stdout",
     "output_type": "stream",
     "text": [
      "False\n",
      "False\n",
      "499 µs ± 4.49 µs per loop (mean ± std. dev. of 7 runs, 1,000 loops each)\n",
      "False\n"
     ]
    }
   ],
   "source": [
    "selu_jit = jax.jit(selu)\n",
    "print(hasattr(selu_jit, 'jaxpr'))\n",
    "\n",
    "\n",
    "# Warm up\n",
    "selu_jit(x).block_until_ready()\n",
    "print(hasattr(selu_jit, 'jaxpr'))\n",
    "\n",
    "\n",
    "%timeit selu_jit(x).block_until_ready()\n",
    "print(hasattr(selu_jit, 'jaxpr'))\n"
   ]
  },
  {
   "cell_type": "code",
   "execution_count": null,
   "metadata": {},
   "outputs": [],
   "source": []
  }
 ],
 "metadata": {
  "kernelspec": {
   "display_name": "SHAPER",
   "language": "python",
   "name": "python3"
  },
  "language_info": {
   "codemirror_mode": {
    "name": "ipython",
    "version": 3
   },
   "file_extension": ".py",
   "mimetype": "text/x-python",
   "name": "python",
   "nbconvert_exporter": "python",
   "pygments_lexer": "ipython3",
   "version": "3.8.2"
  },
  "orig_nbformat": 4
 },
 "nbformat": 4,
 "nbformat_minor": 2
}
