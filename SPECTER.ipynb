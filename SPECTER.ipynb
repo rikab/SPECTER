{
 "cells": [
  {
   "cell_type": "code",
   "execution_count": 1,
   "metadata": {},
   "outputs": [
    {
     "name": "stderr",
     "output_type": "stream",
     "text": [
      "2023-10-27 11:51:29.052708: W tensorflow/compiler/tf2tensorrt/utils/py_utils.cc:38] TF-TRT Warning: Could not find TensorRT\n",
      "No GPU/TPU found, falling back to CPU. (Set TF_CPP_MIN_LOG_LEVEL=0 and rerun for more info.)\n",
      "/home/rikab/miniconda3/envs/SHAPER/lib/python3.8/site-packages/ot/backend.py:2998: UserWarning: To use TensorflowBackend, you need to activate the tensorflow numpy API. You can activate it by running: \n",
      "from tensorflow.python.ops.numpy_ops import np_config\n",
      "np_config.enable_numpy_behavior()\n",
      "  register_backend(TensorflowBackend())\n"
     ]
    }
   ],
   "source": [
    "from pyspecter.SPECTER import SPECTER\n",
    "from pyspecter.Observables import Observable\n",
    "# from pyspecter.SpecialObservables import SpecialObservables\n",
    "\n",
    "# Utils\n",
    "from pyspecter.utils.data_utils import load_cmsopendata, load_triangles\n",
    "\n",
    "# Jax\n",
    "from jax import random\n",
    "import jax.numpy as jnp\n"
   ]
  },
  {
   "cell_type": "code",
   "execution_count": 2,
   "metadata": {},
   "outputs": [
    {
     "name": "stdout",
     "output_type": "stream",
     "text": [
      "Max # of particles: 124\n"
     ]
    }
   ],
   "source": [
    "dataset_open, sim_weights, k = load_cmsopendata(\"~/.energyflow/\", \"sim\", 475, 525, 1.9, 2, pad = 75, n = 1000)\n",
    "triangle_events, triangle_indices = load_triangles(10, 10, R = 1.0, return_indices=True)"
   ]
  },
  {
   "cell_type": "code",
   "execution_count": 3,
   "metadata": {},
   "outputs": [
    {
     "name": "stdout",
     "output_type": "stream",
     "text": [
      "Compiling SPECTER model...\n",
      "Generating test events for tracing ...\n",
      "Test events generated! Time taken:  1.4871983528137207  seconds.\n",
      "Compiling observables...\n",
      "Observables compiled! Time taken:  1.487248420715332  seconds.\n",
      "Compiling spectral representation functions ...\n",
      "Compilation complete! Time taken:  27.01432156562805  seconds.\n"
     ]
    }
   ],
   "source": [
    "specter = SPECTER(compile=True)"
   ]
  },
  {
   "cell_type": "code",
   "execution_count": 4,
   "metadata": {},
   "outputs": [
    {
     "ename": "TypeError",
     "evalue": "__init__() got an unexpected keyword argument 'name'",
     "output_type": "error",
     "traceback": [
      "\u001b[0;31m---------------------------------------------------------------------------\u001b[0m",
      "\u001b[0;31mTypeError\u001b[0m                                 Traceback (most recent call last)",
      "\u001b[1;32m/home/rikab/Documents/Research/SPECTER/SPECTER.ipynb Cell 4\u001b[0m line \u001b[0;36m2\n\u001b[1;32m     <a href='vscode-notebook-cell:/home/rikab/Documents/Research/SPECTER/SPECTER.ipynb#W3sZmlsZQ%3D%3D?line=22'>23</a>\u001b[0m         \u001b[39mreturn\u001b[39;00m points\n\u001b[1;32m     <a href='vscode-notebook-cell:/home/rikab/Documents/Research/SPECTER/SPECTER.ipynb#W3sZmlsZQ%3D%3D?line=24'>25</a>\u001b[0m \u001b[39m# Define two observables: Generic sRinginess estimate and the closed-form expression\u001b[39;00m\n\u001b[0;32m---> <a href='vscode-notebook-cell:/home/rikab/Documents/Research/SPECTER/SPECTER.ipynb#W3sZmlsZQ%3D%3D?line=25'>26</a>\u001b[0m spRinginess1 \u001b[39m=\u001b[39m Observable({\u001b[39m\"\u001b[39;49m\u001b[39mRadius\u001b[39;49m\u001b[39m\"\u001b[39;49m : \u001b[39m0.5\u001b[39;49m}, ring_sampler, name \u001b[39m=\u001b[39;49m \u001b[39m\"\u001b[39;49m\u001b[39msRinginess1\u001b[39;49m\u001b[39m\"\u001b[39;49m)\n\u001b[1;32m     <a href='vscode-notebook-cell:/home/rikab/Documents/Research/SPECTER/SPECTER.ipynb#W3sZmlsZQ%3D%3D?line=26'>27</a>\u001b[0m spRinginess2 \u001b[39m=\u001b[39m SpecialObservables[\u001b[39m\"\u001b[39m\u001b[39mspRinginess\u001b[39m\u001b[39m\"\u001b[39m]\n\u001b[1;32m     <a href='vscode-notebook-cell:/home/rikab/Documents/Research/SPECTER/SPECTER.ipynb#W3sZmlsZQ%3D%3D?line=28'>29</a>\u001b[0m \u001b[39m# Prepare SPECTER and calculate observables using default setup\u001b[39;00m\n",
      "\u001b[0;31mTypeError\u001b[0m: __init__() got an unexpected keyword argument 'name'"
     ]
    }
   ],
   "source": [
    "# Dataset\n",
    "R = 1.0\n",
    "beta = 1.0\n",
    "triangle_events, triangle_indices = load_triangles(num_angles=180, num_energies= 100, R = 1.0, return_indices=True)\n",
    "\n",
    "# Define the ring sampler\n",
    "def ring_sampler(Radius = 1, N = 150, seed = 0):\n",
    "\n",
    "        # Random seed\n",
    "        key = random.PRNGKey(seed)\n",
    "        key1, key2 = random.split(key)\n",
    "\n",
    "        # For a spiral -- use key 1 = key 2!\n",
    "        # Uncomment the following to get a disk instead\n",
    "        phi = 2 * jnp.pi * random.uniform(key1, shape = (N,))\n",
    "        r = 1 #jnp.sqrt( random.uniform(key2, shape = (N,)))\n",
    "\n",
    "        x = Radius * r * jnp.cos(phi)\n",
    "        y = Radius * r * jnp.sin(phi)\n",
    "        e = jnp.ones_like(r) / N\n",
    "        points = jnp.stack((e, x, y), axis = -1)\n",
    "\n",
    "        return points\n",
    "\n",
    "# Define two observables: Generic sRinginess estimate and the closed-form expression\n",
    "spRinginess1 = Observable({\"Radius\" : 0.5}, ring_sampler, name = \"sRinginess1\")\n",
    "spRinginess2 = SpecialObservables[\"spRinginess\"]\n",
    "\n",
    "# Prepare SPECTER and calculate observables using default setup\n",
    "specter = SPECTER(observables=[spRinginess1, spRinginess2])\n",
    "out1 = specter.compute_spRinginess1(triangle_events, beta = 1.0, R = 1.0, timing = True)\n",
    "out2 = specter.compute_spRinginess2(triangle_events, beta = 1.0, R = 1.0, timing = True)\n",
    "\n",
    "# Plot\n",
    "plt.scatter(out1[\"sEMD\"], out1[\"Radius\"], color = \"red\")\n",
    "plt.scatter(out2[\"sEMD\"], out2[\"Radius\"], color = \"blue\")\n",
    "\n"
   ]
  },
  {
   "cell_type": "code",
   "execution_count": null,
   "metadata": {},
   "outputs": [
    {
     "name": "stdout",
     "output_type": "stream",
     "text": [
      "aaa (3, 3)\n",
      "[ 0.0000000e+00  0.0000000e+00 -5.9604645e-08  1.1920929e-07\n",
      " -5.9604645e-08 -5.9604645e-08  0.0000000e+00 -5.9604645e-08\n",
      "  1.1920929e-07  0.0000000e+00  0.0000000e+00  0.0000000e+00\n",
      " -1.1920929e-07  1.1920929e-07 -1.1920929e-07 -5.9604645e-08\n",
      "  0.0000000e+00 -5.9604645e-08  1.1920929e-07  0.0000000e+00\n",
      "  0.0000000e+00  0.0000000e+00  0.0000000e+00  1.1920929e-07\n",
      " -1.1920929e-07 -1.1920929e-07  0.0000000e+00 -1.1920929e-07\n",
      "  1.1920929e-07  0.0000000e+00  0.0000000e+00  0.0000000e+00\n",
      "  0.0000000e+00  2.3841858e-07 -1.1920929e-07  1.1920929e-07\n",
      " -1.1920929e-07  0.0000000e+00  1.1920929e-07  0.0000000e+00\n",
      "  0.0000000e+00 -2.3841858e-07  0.0000000e+00  2.3841858e-07\n",
      " -1.1920929e-07  2.3841858e-07  0.0000000e+00  0.0000000e+00\n",
      "  3.5762787e-07  0.0000000e+00  0.0000000e+00  0.0000000e+00\n",
      "  0.0000000e+00  2.3841858e-07 -2.3841858e-07  4.7683716e-07\n",
      " -2.3841858e-07  5.9604645e-08  7.1525574e-07  0.0000000e+00\n",
      "  0.0000000e+00 -4.7683716e-07 -4.7683716e-07  1.4305115e-06\n",
      " -4.7683716e-07  9.5367432e-07 -3.5762787e-07  2.3841858e-07\n",
      "  1.1324883e-06  0.0000000e+00  0.0000000e+00  0.0000000e+00\n",
      "  0.0000000e+00  9.5367432e-07  0.0000000e+00  1.1920929e-06\n",
      " -7.1525574e-07  2.3841858e-07  1.5497208e-06  0.0000000e+00\n",
      "  0.0000000e+00  0.0000000e+00  9.5367432e-07  1.4305115e-06\n",
      "  0.0000000e+00  1.4305115e-06 -7.1525574e-07  3.5762787e-07\n",
      "  1.9073486e-06  0.0000000e+00  0.0000000e+00  0.0000000e+00\n",
      "  9.5367432e-07  1.4305115e-06 -4.7683716e-07  1.9073486e-06\n",
      " -7.1525574e-07  4.7683716e-07  2.0265579e-06  0.0000000e+00]\n",
      "[ 0.0000000e+00  0.0000000e+00 -5.9604645e-08  1.1920929e-07\n",
      " -5.9604645e-08 -5.9604645e-08  0.0000000e+00 -5.9604645e-08\n",
      "  1.1920929e-07  0.0000000e+00  0.0000000e+00  0.0000000e+00\n",
      " -1.1920929e-07  1.1920929e-07 -1.1920929e-07 -5.9604645e-08\n",
      "  0.0000000e+00 -5.9604645e-08  1.1920929e-07  0.0000000e+00\n",
      "  0.0000000e+00  0.0000000e+00  0.0000000e+00  1.1920929e-07\n",
      " -1.1920929e-07 -1.1920929e-07  0.0000000e+00 -1.1920929e-07\n",
      "  1.1920929e-07  0.0000000e+00  0.0000000e+00  0.0000000e+00\n",
      "  0.0000000e+00  2.3841858e-07 -1.1920929e-07  1.1920929e-07\n",
      " -1.1920929e-07  0.0000000e+00  1.1920929e-07  0.0000000e+00\n",
      "  0.0000000e+00 -2.3841858e-07  0.0000000e+00  2.3841858e-07\n",
      " -1.1920929e-07  2.3841858e-07  0.0000000e+00  0.0000000e+00\n",
      "  3.5762787e-07  0.0000000e+00  0.0000000e+00  0.0000000e+00\n",
      "  0.0000000e+00  2.3841858e-07 -2.3841858e-07  4.7683716e-07\n",
      " -2.3841858e-07  5.9604645e-08  7.1525574e-07  0.0000000e+00\n",
      "  0.0000000e+00 -4.7683716e-07 -4.7683716e-07  1.4305115e-06\n",
      " -4.7683716e-07  9.5367432e-07 -3.5762787e-07  2.3841858e-07\n",
      "  1.1324883e-06  0.0000000e+00  0.0000000e+00  0.0000000e+00\n",
      "  0.0000000e+00  9.5367432e-07  0.0000000e+00  1.1920929e-06\n",
      " -7.1525574e-07  2.3841858e-07  1.5497208e-06  0.0000000e+00\n",
      "  0.0000000e+00  0.0000000e+00  9.5367432e-07  1.4305115e-06\n",
      "  0.0000000e+00  1.4305115e-06 -7.1525574e-07  3.5762787e-07\n",
      "  1.9073486e-06  0.0000000e+00  0.0000000e+00  0.0000000e+00\n",
      "  9.5367432e-07  1.4305115e-06 -4.7683716e-07  1.9073486e-06\n",
      " -7.1525574e-07  4.7683716e-07  2.0265579e-06  0.0000000e+00]\n"
     ]
    }
   ],
   "source": [
    "import numpy as np\n",
    "import matplotlib.pyplot as plt\n",
    "\n",
    "ss = specter.compute_spectral_representation(triangles)\n",
    "print(specter.spectralEMD(ss, ss, type1=\"spectral\", type2=\"spectral\"))\n",
    "print(specter.spectralEMD(triangle_events, triangle_events))\n",
    "\n"
   ]
  },
  {
   "cell_type": "code",
   "execution_count": null,
   "metadata": {},
   "outputs": [],
   "source": [
    "# TODO: Fix JIT compiler\n",
    "\n",
    "ds2_events1_spectral2 = SPECTER.ds2_events1_spectral2\n"
   ]
  },
  {
   "cell_type": "code",
   "execution_count": null,
   "metadata": {},
   "outputs": [],
   "source": []
  }
 ],
 "metadata": {
  "kernelspec": {
   "display_name": "SHAPER",
   "language": "python",
   "name": "python3"
  },
  "language_info": {
   "codemirror_mode": {
    "name": "ipython",
    "version": 3
   },
   "file_extension": ".py",
   "mimetype": "text/x-python",
   "name": "python",
   "nbconvert_exporter": "python",
   "pygments_lexer": "ipython3",
   "version": "3.8.2"
  },
  "orig_nbformat": 4
 },
 "nbformat": 4,
 "nbformat_minor": 2
}
