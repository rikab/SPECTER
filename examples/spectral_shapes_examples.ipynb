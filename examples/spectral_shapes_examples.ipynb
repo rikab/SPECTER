{
 "cells": [
  {
   "cell_type": "code",
   "execution_count": null,
   "metadata": {},
   "outputs": [],
   "source": [
    "# Standard Imports\n",
    "import numpy as np\n",
    "from time import time\n",
    "from matplotlib import pyplot as plt\n",
    "import os\n",
    "\n",
    "from particleloader import load\n",
    "from particleloader.utils import center_and_normalize_zyphi\n",
    "from pyspecter.SPECTER import SPECTER\n",
    "from pyspecter.CommonObservables import build_jet_observables\n",
    "\n",
    "# Utils\n",
    "try:\n",
    "    from rikabplotlib.plot_utils import newplot, plot_event\n",
    "except:\n",
    "    from pyspecter.utils.plot_utils import newplot, plot_event\n"
   ]
  },
  {
   "cell_type": "code",
   "execution_count": null,
   "metadata": {},
   "outputs": [],
   "source": [
    "# %%%%%%%%%% Load Data %%%%%%%%%%\n",
    "\n",
    "# Parameters \n",
    "R = 1.0\n",
    "lr = 0.005\n",
    "epochs = 1500\n",
    "\n",
    "N_samples = 150\n",
    "batch_size = 10000\n",
    "\n",
    "jets_dataset_name = \"SPECTER_qcd_jets\" # Also try: \"SPECTER_top_jets\"\n",
    "cache_dir = \"~/.ParticleLoader\"\n",
    "\n",
    "jets_dataset = load(jets_dataset_name, N_samples)\n",
    "jets_dataset = center_and_normalize_zyphi(jets_dataset)\n",
    "jets_dataset = jets_dataset[:,:125,:3]\n",
    "\n",
    "# Plot an event\n",
    "fig, ax = newplot(\"full\")\n",
    "plot_event(ax, jets_dataset[0], R)"
   ]
  },
  {
   "cell_type": "code",
   "execution_count": null,
   "metadata": {},
   "outputs": [],
   "source": [
    "jet_observables_dict = build_jet_observables(R = R)\n",
    "\n",
    "observable_keys = [\"spLineliness\", \"spRinginess\", \"spDiskiness\", \"1-sPronginess\", \"2-sPronginess\", \"3-sPronginess\"]\n",
    "observable_names = [\"line\",\"ring\", \"disk\", \"1sprong\", \"2sprong\", \"3sprong\"]"
   ]
  },
  {
   "cell_type": "code",
   "execution_count": null,
   "metadata": {},
   "outputs": [],
   "source": [
    "batch = 0\n",
    "\n",
    "emds_dict = {}\n",
    "params_dict = {}\n",
    "hard_emds_dict = {}\n",
    "hard_params_dict = {}\n",
    "\n",
    "\n",
    "for batch_start in range(0, jets_dataset.shape[0], batch_size):\n",
    "\n",
    "\n",
    "    batch_end = batch_start + batch_size\n",
    "    dataset = jets_dataset[batch_start:batch_end]\n",
    "\n",
    "\n",
    "    for o, observable_key in enumerate(observable_keys):\n",
    "\n",
    "        observable = jet_observables_dict[observable_key]\n",
    "        observable_name = observable_names[o]\n",
    "        emds, params, loss_history, params_history = observable.compute(dataset, learning_rate= lr, early_stopping=150, N_sample = 125, finite_difference=False, epochs = epochs)\n",
    "\n",
    "        # save\n",
    "        emds_dict[observable_name] = emds\n",
    "        params_dict[observable_name] = params\n",
    "\n",
    "        # Try exact computation\n",
    "        try: \n",
    "            hard_emds, hard_params = observable.hard_compute(dataset)\n",
    "\n",
    "            hard_emds_dict[observable_name] = hard_emds\n",
    "            hard_params_dict[observable_name] = hard_params\n",
    "        except Exception as e:\n",
    "            print(f\"{observable_name} has no exact computation\")\n",
    "\n",
    "\n",
    "    batch += 1\n",
    "\n"
   ]
  },
  {
   "cell_type": "code",
   "execution_count": null,
   "metadata": {},
   "outputs": [],
   "source": [
    "for o, observable_key in enumerate(observable_keys):\n",
    "\n",
    "    observable_name = observable_names[o]\n",
    "\n",
    "    fig, ax = newplot(\"full\")\n",
    "    emds = emds_dict[observable_name]\n",
    "    ax.hist(emds, bins=100, alpha=0.5, label=observable_name, color = \"red\", alpha = 0.5)\n",
    "    try:\n",
    "        hard_emds = hard_emds_dict[observable_name]\n",
    "        ax.hist(hard_emds, bins=100, alpha=0.5, label=\"Hard\", color = \"darkred\", histtype=\"step\")\n",
    "    except:\n",
    "        pass\n",
    "\n"
   ]
  }
 ],
 "metadata": {
  "kernelspec": {
   "display_name": "SHAPER",
   "language": "python",
   "name": "python3"
  },
  "language_info": {
   "codemirror_mode": {
    "name": "ipython",
    "version": 3
   },
   "file_extension": ".py",
   "mimetype": "text/x-python",
   "name": "python",
   "nbconvert_exporter": "python",
   "pygments_lexer": "ipython3",
   "version": "3.8.2"
  }
 },
 "nbformat": 4,
 "nbformat_minor": 2
}
