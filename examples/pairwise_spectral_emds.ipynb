{
 "cells": [
  {
   "cell_type": "markdown",
   "metadata": {},
   "source": [
    "# Pairwise Spectral EMD Example"
   ]
  },
  {
   "cell_type": "markdown",
   "metadata": {},
   "source": [
    "Example code to load in events and calculate their pairwise spectral EMDs. Takes about 15 seconds to compile + 30 seconds to run on my laptop, assuming the dataset is already downloaded (Approx 11000 pairs per minute) uing the default presets in this notebook. The more memory, the merrier.\n",
    "\n",
    "Before using, make sure to `pip install .` in the root directory of this repository."
   ]
  },
  {
   "cell_type": "code",
   "execution_count": 1,
   "metadata": {},
   "outputs": [
    {
     "name": "stderr",
     "output_type": "stream",
     "text": [
      "2023-12-05 00:08:40.582050: W tensorflow/compiler/tf2tensorrt/utils/py_utils.cc:38] TF-TRT Warning: Could not find TensorRT\n",
      "No GPU/TPU found, falling back to CPU. (Set TF_CPP_MIN_LOG_LEVEL=0 and rerun for more info.)\n",
      "/home/rikab/miniconda3/envs/SHAPER/lib/python3.8/site-packages/ot/backend.py:2998: UserWarning: To use TensorflowBackend, you need to activate the tensorflow numpy API. You can activate it by running: \n",
      "from tensorflow.python.ops.numpy_ops import np_config\n",
      "np_config.enable_numpy_behavior()\n",
      "  register_backend(TensorflowBackend())\n"
     ]
    }
   ],
   "source": [
    "from pyspecter.SPECTER import SPECTER\n",
    "\n",
    "# Utils\n",
    "from pyspecter.utils.data_utils import load_cmsopendata, load_triangles\n",
    "from pyspecter.utils.plot_utils import initialize, newplot\n",
    "initialize()\n",
    "\n",
    "\n",
    "# Standard imports\n",
    "import numpy as np\n",
    "import matplotlib.pyplot as plt\n",
    "import time"
   ]
  },
  {
   "cell_type": "markdown",
   "metadata": {},
   "source": [
    "# Load Dataset"
   ]
  },
  {
   "cell_type": "code",
   "execution_count": 6,
   "metadata": {},
   "outputs": [
    {
     "name": "stdout",
     "output_type": "stream",
     "text": [
      "Max # of particles: 113\n"
     ]
    }
   ],
   "source": [
    "# CMS Open Sim Parameters\n",
    "pt_lower = 475\n",
    "pt_upper = 525\n",
    "eta_cut = 1.9\n",
    "quality = 2\n",
    "pad = 75 # Note that runtime is pad^2, memory is pad^4\n",
    "\n",
    "n_samples = 100\n",
    "batch_size = 250 # Number of pairs to process in parallel, can probably be increased.\n",
    "\n",
    "# Load data -- this will take a while the first time. Downloads the data from the CMS Open Data portal. Sub in your own data if you have if you want.\n",
    "dataset, sim_weights, k_factors = load_cmsopendata(\"~/.energyflow/\", \"sim\", pt_lower, pt_upper, eta_cut, quality, pad = pad, n = n_samples, )\n",
    "weights = sim_weights * k_factors\n",
    "\n"
   ]
  },
  {
   "cell_type": "markdown",
   "metadata": {},
   "source": [
    "# Set up SPECTER"
   ]
  },
  {
   "cell_type": "code",
   "execution_count": 3,
   "metadata": {},
   "outputs": [
    {
     "name": "stdout",
     "output_type": "stream",
     "text": [
      "Compiling SPECTER model...\n",
      "Generating test events for tracing ...\n",
      "Test events generated! Time taken:  1.6054043769836426  seconds.\n",
      "Compiling spectral representation functions ...\n",
      "Compiling observables...\n",
      "Observables compiled! Time taken:  25.926372528076172  seconds.\n",
      "Compilation complete! Time taken:  25.926382541656494  seconds.\n"
     ]
    }
   ],
   "source": [
    "# Set up and compile SPECTER\n",
    "specter = SPECTER(compile = True)\n"
   ]
  },
  {
   "cell_type": "markdown",
   "metadata": {},
   "source": [
    "# Compute EMDs\n",
    "Compute the EMDs between every pair of events, in parallel batches of `batch_size` events."
   ]
  },
  {
   "cell_type": "code",
   "execution_count": 7,
   "metadata": {},
   "outputs": [
    {
     "name": "stdout",
     "output_type": "stream",
     "text": [
      "Computing Batch 0-250 of 4950 pairs. Elapsed Time: 0.000 seconds\n",
      "Computing Batch 250-500 of 4950 pairs. Elapsed Time: 2.138 seconds\n",
      "Computing Batch 500-750 of 4950 pairs. Elapsed Time: 2.446 seconds\n",
      "Computing Batch 750-1000 of 4950 pairs. Elapsed Time: 2.734 seconds\n",
      "Computing Batch 1000-1250 of 4950 pairs. Elapsed Time: 3.031 seconds\n",
      "Computing Batch 1250-1500 of 4950 pairs. Elapsed Time: 3.320 seconds\n",
      "Computing Batch 1500-1750 of 4950 pairs. Elapsed Time: 3.612 seconds\n",
      "Computing Batch 1750-2000 of 4950 pairs. Elapsed Time: 3.887 seconds\n",
      "Computing Batch 2000-2250 of 4950 pairs. Elapsed Time: 4.160 seconds\n",
      "Computing Batch 2250-2500 of 4950 pairs. Elapsed Time: 4.472 seconds\n",
      "Computing Batch 2500-2750 of 4950 pairs. Elapsed Time: 4.773 seconds\n",
      "Computing Batch 2750-3000 of 4950 pairs. Elapsed Time: 5.055 seconds\n",
      "Computing Batch 3000-3250 of 4950 pairs. Elapsed Time: 5.328 seconds\n",
      "Computing Batch 3250-3500 of 4950 pairs. Elapsed Time: 5.601 seconds\n",
      "Computing Batch 3500-3750 of 4950 pairs. Elapsed Time: 5.893 seconds\n",
      "Computing Batch 3750-4000 of 4950 pairs. Elapsed Time: 6.205 seconds\n",
      "Computing Batch 4000-4250 of 4950 pairs. Elapsed Time: 6.510 seconds\n",
      "Computing Batch 4250-4500 of 4950 pairs. Elapsed Time: 6.836 seconds\n",
      "Computing Batch 4500-4750 of 4950 pairs. Elapsed Time: 7.153 seconds\n",
      "Computing Batch 4750-5000 of 4950 pairs. Elapsed Time: 7.455 seconds\n",
      "Done! Total Elapsed Time: 9.639 seconds\n"
     ]
    }
   ],
   "source": [
    "# Get list of pairwise indices\n",
    "i_pairs, j_pairs = np.triu_indices(n_samples, k = 1)\n",
    "\n",
    "# Initialize matrix to store pairwise EMDs\n",
    "pairwise_emds = np.zeros((n_samples, n_samples))\n",
    "\n",
    "# Compute batches\n",
    "start_time = time.time()\n",
    "for n in range(0, len(i_pairs), batch_size):\n",
    "\n",
    "    print(f\"Computing Batch {n}-{n+batch_size} of {len(i_pairs)} pairs. Elapsed Time: {time.time() - start_time :.3f} seconds\")\n",
    "    i_batch = i_pairs[n : n + batch_size]\n",
    "    j_batch = j_pairs[n : n + batch_size]\n",
    "    \n",
    "    # Compute the pairwise EMDs\n",
    "    emds = specter.spectralEMD(dataset[i_batch], dataset[j_batch])\n",
    "    \n",
    "    # Store the results\n",
    "    pairwise_emds[i_batch, j_batch] = emds\n",
    "    pairwise_emds[j_batch, i_batch] = emds\n",
    "\n",
    "print(f\"Done! Total Elapsed Time: {time.time() - start_time :.3f} seconds\")"
   ]
  },
  {
   "cell_type": "code",
   "execution_count": 5,
   "metadata": {},
   "outputs": [
    {
     "data": {
      "text/plain": [
       "Text(0, 0.5, 'Density')"
      ]
     },
     "execution_count": 5,
     "metadata": {},
     "output_type": "execute_result"
    },
    {
     "data": {
      "image/png": "[encoded data removed]",
      "text/plain": [
       "<Figure size 800x800 with 1 Axes>"
      ]
     },
     "metadata": {},
     "output_type": "display_data"
    }
   ],
   "source": [
    "# Histogram the results (upper triangle only)\n",
    "newplot()\n",
    "plt.hist(pairwise_emds[np.triu_indices(n_samples, k = 1)], bins = 100, density=True)\n",
    "plt.yscale(\"log\")\n",
    "plt.xlabel(\"Pairwise EMD\")\n",
    "plt.ylabel(\"Density\")\n"
   ]
  },
  {
   "cell_type": "code",
   "execution_count": null,
   "metadata": {},
   "outputs": [],
   "source": []
  }
 ],
 "metadata": {
  "kernelspec": {
   "display_name": "SHAPER",
   "language": "python",
   "name": "python3"
  },
  "language_info": {
   "codemirror_mode": {
    "name": "ipython",
    "version": 3
   },
   "file_extension": ".py",
   "mimetype": "text/x-python",
   "name": "python",
   "nbconvert_exporter": "python",
   "pygments_lexer": "ipython3",
   "version": "3.8.2"
  },
  "orig_nbformat": 4
 },
 "nbformat": 4,
 "nbformat_minor": 2
}
