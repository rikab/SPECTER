{
 "cells": [
  {
   "cell_type": "code",
   "execution_count": 1,
   "id": "1561e19c",
   "metadata": {},
   "outputs": [],
   "source": [
    "from pyspecter.SPECTER import SPECTER\n",
    "import numpy as np\n"
   ]
  },
  {
   "cell_type": "code",
   "execution_count": 2,
   "id": "fa862965",
   "metadata": {},
   "outputs": [
    {
     "name": "stderr",
     "output_type": "stream",
     "text": [
      "No GPU/TPU found, falling back to CPU. (Set TF_CPP_MIN_LOG_LEVEL=0 and rerun for more info.)\n"
     ]
    },
    {
     "name": "stdout",
     "output_type": "stream",
     "text": [
      "Compiling SPECTER model...\n",
      "Generating test events for tracing ...\n",
      "Test events generated! Time taken:  4.147363901138306  seconds.\n",
      "Compiling spectral representation functions ...\n",
      "Compilation complete! Time taken:  42.77806878089905  seconds.\n"
     ]
    }
   ],
   "source": [
    "specter = SPECTER()"
   ]
  },
  {
   "cell_type": "markdown",
   "id": "27cc1966",
   "metadata": {},
   "source": [
    "# Test 1: Checking that the SEMD between an event and itself is zero!"
   ]
  },
  {
   "cell_type": "code",
   "execution_count": 3,
   "id": "f60193d6",
   "metadata": {},
   "outputs": [
    {
     "name": "stdout",
     "output_type": "stream",
     "text": [
      "Euclidean EMD:  [-4.7683716e-07]\n",
      "Cylinder EMD:  [-4.7683716e-07]\n"
     ]
    }
   ],
   "source": [
    "# Load csv file\n",
    "event = np.loadtxt(\"test_event.csv\", delimiter=\",\", skiprows=1)\n",
    "\n",
    "# Reshape to (1, 94, 3)\n",
    "event = event.reshape(1, -1, 3)\n",
    "\n",
    "emd_euc = specter.spectralEMD(event,  event)\n",
    "emd_cylinder = specter.spectralEMD(event, event, metric=\"cylindrical\")\n",
    "print(\"Euclidean EMD: \", emd_euc)\n",
    "print(\"Cylinder EMD: \", emd_cylinder)"
   ]
  },
  {
   "cell_type": "markdown",
   "id": "84fcc1b2",
   "metadata": {},
   "source": [
    "# Test 2: Euclidean versus Cylindrical SEMD"
   ]
  },
  {
   "cell_type": "code",
   "execution_count": 12,
   "id": "aee44b4f",
   "metadata": {},
   "outputs": [
    {
     "name": "stdout",
     "output_type": "stream",
     "text": [
      "Euclidean EMD:  [19.73921] , Expected answer = (2pi)^2/2 = 19.739208802178716\n",
      "Cylinder EMD:  [0.]\n"
     ]
    }
   ],
   "source": [
    "# These particles have a distance of 2pi. On the cylinder, they are at the same position.\n",
    "event1 = np.array([[0.5, 0, 0], [0.5, 0, 2 * np.pi]])\n",
    "event2 = np.array([[1.0, 0, 0]])\n",
    "\n",
    "# Add a batch dimension\n",
    "event1 = event1.reshape(1, -1, 3)\n",
    "event2 = event2.reshape(1, -1, 3)\n",
    "\n",
    "\n",
    "emd_euc = specter.spectralEMD(event1, event2)\n",
    "emd_cylinder = specter.spectralEMD(event1, event2, metric=\"cylindrical\")\n",
    "print(\"Euclidean EMD: \", emd_euc, \", Expected answer = (2pi)^2/2 = \" + str((2 * np.pi) ** 2 / 2))\n",
    "print(\"Cylinder EMD: \", emd_cylinder)"
   ]
  },
  {
   "cell_type": "markdown",
   "id": "d488eea7",
   "metadata": {},
   "source": [
    "# Test 3: SEMD with non-normalized energies\n",
    "\n",
    "The SEMD should scale with E_tot^2. We can test this by taking events with E_tot = 1, and then multipling by some constant"
   ]
  },
  {
   "cell_type": "code",
   "execution_count": 17,
   "id": "38d07909",
   "metadata": {},
   "outputs": [
    {
     "name": "stdout",
     "output_type": "stream",
     "text": [
      "Ratio of EMDs:  [9.] , Expected answer = 3^2 = 9\n"
     ]
    }
   ],
   "source": [
    "event1 = np.array([[0.5, 0, 0], [0.5, 0, 1]])\n",
    "event2 = np.array([[1.0, 0, 0]])\n",
    "\n",
    "# Add a batch dimension\n",
    "event1 = event1.reshape(1, -1, 3)\n",
    "event2 = event2.reshape(1, -1, 3)\n",
    "\n",
    "\n",
    "emd1 = specter.spectralEMD(event1, event2)\n",
    "multiplier = 3\n",
    "\n",
    "modified_event1 = event1.copy()\n",
    "modified_event1[:,:, 0] = modified_event1[:, :, 0] * multiplier\n",
    "modified_event2 = event2.copy()\n",
    "modified_event2[:,:, 0] = modified_event2[:, :, 0] * multiplier\n",
    "emd2 = specter.spectralEMD(modified_event1, modified_event2)\n",
    "\n",
    "print(f\"Ratio of EMDs: \", emd2 / emd1, f\", Expected answer = {multiplier}^2 = {multiplier**2}\")"
   ]
  },
  {
   "cell_type": "markdown",
   "id": "31ff1dd5",
   "metadata": {},
   "source": [
    "# Test 4: Unabalanced events\n"
   ]
  },
  {
   "cell_type": "code",
   "execution_count": 10,
   "id": "b85fa486",
   "metadata": {},
   "outputs": [
    {
     "name": "stdout",
     "output_type": "stream",
     "text": [
      "Calculation failed since the energies are not equal. Please provide omega_max.\n",
      "Warning: Events are not balanced to within 1e-4! Indices: [0]. Total energy of events1: [2.] and events2: [1.]! Using unbalanced OT with omega_max = 1!\n",
      "EMD:  [3.] , Expected answer = (omega^2)|(e1^2 - e2^2)| =  3.0\n"
     ]
    }
   ],
   "source": [
    "omega_max = 1\n",
    "\n",
    "# Event 1 is a single particle with energy 1\n",
    "event1 = np.array([[2.0, 0, 0]])\n",
    "\n",
    "# Event 2 is a single particle with energy 2\n",
    "event2 = np.array([[1.0, 0, 0]])\n",
    "\n",
    "# Add a batch dimension\n",
    "event1 = event1.reshape(1, -1, 3)\n",
    "event2 = event2.reshape(1, -1, 3)\n",
    "\n",
    "# Calculate the EMD between the two events. THIS WILL FAIL, SINCE NO OMEGA IS PROVIDED. THIS IS EXPECTED!\n",
    "try:\n",
    "    emd = specter.spectralEMD(event1, event2)\n",
    "except:\n",
    "    print(\"Calculation failed since the energies are not equal. Please provide omega_max.\")\n",
    "\n",
    "\n",
    "# Calculate the EMD between the two events. THIS WILL WORK, SINCE OMEGA IS PROVIDED!\n",
    "emd = specter.spectralEMD(event1, event2, omega_max=omega_max)\n",
    "print(\"EMD: \", emd, \", Expected answer = (omega^2)|(e1^2 - e2^2)| = \", (omega_max)**2 * (event1[0,0,0]**2 - event2[0,0,0]**2))"
   ]
  },
  {
   "cell_type": "code",
   "execution_count": null,
   "id": "92900a31",
   "metadata": {},
   "outputs": [],
   "source": []
  }
 ],
 "metadata": {
  "kernelspec": {
   "display_name": "SHAPER",
   "language": "python",
   "name": "python3"
  },
  "language_info": {
   "codemirror_mode": {
    "name": "ipython",
    "version": 3
   },
   "file_extension": ".py",
   "mimetype": "text/x-python",
   "name": "python",
   "nbconvert_exporter": "python",
   "pygments_lexer": "ipython3",
   "version": "3.8.2"
  }
 },
 "nbformat": 4,
 "nbformat_minor": 5
}
