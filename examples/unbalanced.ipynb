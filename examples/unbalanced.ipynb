{
 "cells": [
  {
   "cell_type": "code",
   "execution_count": 24,
   "id": "1561e19c",
   "metadata": {},
   "outputs": [],
   "source": [
    "from pyspecter.SPECTER import SPECTER\n",
    "import numpy as np\n"
   ]
  },
  {
   "cell_type": "code",
   "execution_count": 2,
   "id": "fa862965",
   "metadata": {},
   "outputs": [
    {
     "name": "stderr",
     "output_type": "stream",
     "text": [
      "No GPU/TPU found, falling back to CPU. (Set TF_CPP_MIN_LOG_LEVEL=0 and rerun for more info.)\n"
     ]
    },
    {
     "name": "stdout",
     "output_type": "stream",
     "text": [
      "Compiling SPECTER model...\n",
      "Generating test events for tracing ...\n",
      "Test events generated! Time taken:  4.236015796661377  seconds.\n",
      "Compiling spectral representation functions ...\n",
      "Compilation complete! Time taken:  41.85871624946594  seconds.\n"
     ]
    }
   ],
   "source": [
    "specter = SPECTER()"
   ]
  },
  {
   "cell_type": "markdown",
   "id": "27cc1966",
   "metadata": {},
   "source": [
    "# Test 1: Checking that the SEMD between an event and itself is zero!"
   ]
  },
  {
   "cell_type": "code",
   "execution_count": 3,
   "id": "f60193d6",
   "metadata": {},
   "outputs": [
    {
     "name": "stdout",
     "output_type": "stream",
     "text": [
      "Euclidean EMD:  [-4.7683716e-07]\n",
      "Cylinder EMD:  [-4.7683716e-07]\n"
     ]
    }
   ],
   "source": [
    "# Load csv file\n",
    "event = np.loadtxt(\"test_event.csv\", delimiter=\",\", skiprows=1)\n",
    "\n",
    "# Reshape to (1, 94, 3)\n",
    "event = event.reshape(1, -1, 3)\n",
    "\n",
    "emd_euc = specter.spectralEMD(event,  event)\n",
    "emd_cylinder = specter.spectralEMD(event, event, metric=\"cylindrical\")\n",
    "print(\"Euclidean EMD: \", emd_euc)\n",
    "print(\"Cylinder EMD: \", emd_cylinder)"
   ]
  },
  {
   "cell_type": "markdown",
   "id": "84fcc1b2",
   "metadata": {},
   "source": [
    "# Test 2: Euclidean versus Cylindrical SEMD"
   ]
  },
  {
   "cell_type": "code",
   "execution_count": 4,
   "id": "aee44b4f",
   "metadata": {},
   "outputs": [
    {
     "name": "stdout",
     "output_type": "stream",
     "text": [
      "Euclidean EMD:  [19.73921] , Expected answer = (2pi)^2/2 = 19.739208802178716\n",
      "Cylinder EMD:  [0.]\n"
     ]
    }
   ],
   "source": [
    "# These particles have a distance of 2pi. On the cylinder, they are at the same position.\n",
    "event1 = np.array([[0.5, 0, 0], [0.5, 0, 2 * np.pi]])\n",
    "event2 = np.array([[1.0, 0, 0]])\n",
    "\n",
    "# Add a batch dimension\n",
    "event1 = event1.reshape(1, -1, 3)\n",
    "event2 = event2.reshape(1, -1, 3)\n",
    "\n",
    "\n",
    "emd_euc = specter.spectralEMD(event1, event2)\n",
    "emd_cylinder = specter.spectralEMD(event1, event2, metric=\"cylindrical\")\n",
    "print(\"Euclidean EMD: \", emd_euc, \", Expected answer = (2pi)^2/2 = \" + str((2 * np.pi) ** 2 / 2))\n",
    "print(\"Cylinder EMD: \", emd_cylinder)"
   ]
  },
  {
   "cell_type": "markdown",
   "id": "d488eea7",
   "metadata": {},
   "source": [
    "# Test 3: SEMD with non-normalized energies\n",
    "\n",
    "The SEMD should scale with E_tot^2. We can test this by taking events with E_tot = 1, and then multipling by some constant"
   ]
  },
  {
   "cell_type": "code",
   "execution_count": 5,
   "id": "38d07909",
   "metadata": {},
   "outputs": [
    {
     "name": "stdout",
     "output_type": "stream",
     "text": [
      "Ratio of EMDs:  [9.] , Expected answer = 3^2 = 9\n"
     ]
    }
   ],
   "source": [
    "event1 = np.array([[0.5, 0, 0], [0.5, 0, 1]])\n",
    "event2 = np.array([[1.0, 0, 0]])\n",
    "\n",
    "# Add a batch dimension\n",
    "event1 = event1.reshape(1, -1, 3)\n",
    "event2 = event2.reshape(1, -1, 3)\n",
    "\n",
    "\n",
    "emd1 = specter.spectralEMD(event1, event2)\n",
    "multiplier = 3\n",
    "\n",
    "modified_event1 = event1.copy()\n",
    "modified_event1[:,:, 0] = modified_event1[:, :, 0] * multiplier\n",
    "modified_event2 = event2.copy()\n",
    "modified_event2[:,:, 0] = modified_event2[:, :, 0] * multiplier\n",
    "emd2 = specter.spectralEMD(modified_event1, modified_event2)\n",
    "\n",
    "print(f\"Ratio of EMDs: \", emd2 / emd1, f\", Expected answer = {multiplier}^2 = {multiplier**2}\")"
   ]
  },
  {
   "cell_type": "markdown",
   "id": "31ff1dd5",
   "metadata": {},
   "source": [
    "# Test 4: Unabalanced events\n"
   ]
  },
  {
   "cell_type": "code",
   "execution_count": 6,
   "id": "b85fa486",
   "metadata": {},
   "outputs": [
    {
     "name": "stdout",
     "output_type": "stream",
     "text": [
      "Calculation failed since the energies are not equal. Please provide omega_max.\n",
      "Warning: Events are not balanced to within 1e-4! Indices: [0]. Total energy of events1: [2.] and events2: [1.]! Using unbalanced OT with omega_max = 1!\n",
      "EMD:  [3.] , Expected answer = (omega^2)|(e1^2 - e2^2)| =  3.0\n"
     ]
    }
   ],
   "source": [
    "omega_max = 1\n",
    "\n",
    "# Event 1 is a single particle with energy 1\n",
    "event1 = np.array([[2.0, 0, 0]])\n",
    "\n",
    "# Event 2 is a single particle with energy 2\n",
    "event2 = np.array([[1.0, 0, 0]])\n",
    "\n",
    "# Add a batch dimension\n",
    "event1 = event1.reshape(1, -1, 3)\n",
    "event2 = event2.reshape(1, -1, 3)\n",
    "\n",
    "# Calculate the EMD between the two events. THIS WILL FAIL, SINCE NO OMEGA IS PROVIDED. THIS IS EXPECTED!\n",
    "try:\n",
    "    emd = specter.spectralEMD(event1, event2)\n",
    "except:\n",
    "    print(\"Calculation failed since the energies are not equal. Please provide omega_max.\")\n",
    "\n",
    "\n",
    "# Calculate the EMD between the two events. THIS WILL WORK, SINCE OMEGA IS PROVIDED!\n",
    "emd = specter.spectralEMD(event1, event2, omega_max=omega_max)\n",
    "print(\"EMD: \", emd, \", Expected answer = (omega^2)|(e1^2 - e2^2)| = \", (omega_max)**2 * (event1[0,0,0]**2 - event2[0,0,0]**2))"
   ]
  },
  {
   "cell_type": "code",
   "execution_count": 5,
   "id": "e1869f68",
   "metadata": {},
   "outputs": [],
   "source": [
    "import matplotlib.pyplot as plt"
   ]
  },
  {
   "cell_type": "code",
   "execution_count": 6,
   "id": "fc3ef33c",
   "metadata": {},
   "outputs": [
    {
     "name": "stdout",
     "output_type": "stream",
     "text": [
      "Calculating EMD for omega_max = 0.001\n",
      "Warning: Events are not balanced to within 1e-4! Using unbalanced OT with omega_max = 0.001!\n",
      "Calculating EMD for omega_max = 0.01\n",
      "Warning: Events are not balanced to within 1e-4! Using unbalanced OT with omega_max = 0.01!\n",
      "Calculating EMD for omega_max = 0.1\n",
      "Warning: Events are not balanced to within 1e-4! Using unbalanced OT with omega_max = 0.1!\n",
      "Calculating EMD for omega_max = 1\n",
      "Warning: Events are not balanced to within 1e-4! Using unbalanced OT with omega_max = 1!\n",
      "Calculating EMD for omega_max = 10\n",
      "Warning: Events are not balanced to within 1e-4! Using unbalanced OT with omega_max = 10!\n",
      "Calculating EMD for omega_max = 100\n",
      "Warning: Events are not balanced to within 1e-4! Using unbalanced OT with omega_max = 100!\n"
     ]
    },
    {
     "data": {
      "text/plain": [
       "<matplotlib.legend.Legend at 0x78120b8eb940>"
      ]
     },
     "execution_count": 6,
     "metadata": {},
     "output_type": "execute_result"
    },
    {
     "data": {
      "image/png": "[encoded data removed]",
      "text/plain": [
       "<Figure size 640x480 with 1 Axes>"
      ]
     },
     "metadata": {},
     "output_type": "display_data"
    }
   ],
   "source": [
    "events1 = np.zeros((100, 1, 3))\n",
    "for i in range(100):\n",
    "    events1[i, 0, 0] = i / 100\n",
    "    events1[i, 0, 1] = 0\n",
    "    events1[i, 0, 2] = 0\n",
    "\n",
    "events2 = np.ones((100, 1, 3)) * 1e-8\n",
    "\n",
    "\n",
    "omega_maxes = [0.001, 0.01, 0.1, 1, 10, 100]\n",
    "for omega_max in omega_maxes:\n",
    "    print(f\"Calculating EMD for omega_max = {omega_max}\")\n",
    "    # Set the second event to be a shifted version of the first event\n",
    "    emds = specter.spectralEMD(events1, events2, omega_max=omega_max)\n",
    "\n",
    "    energy_mismatch = np.abs(events1[:, 0, 0] - events2[:, 0, 0])\n",
    "\n",
    "    plt.plot(events1[:, 0, 0], emds / energy_mismatch**2 / omega_max**2, label=f\"omega_max = {omega_max}\")\n",
    "\n",
    "plt.xlabel(\"Energy Mismatch\")\n",
    "plt.ylabel(\"EMD / (Energy Mismatch^2 * Omega Max^2)\")\n",
    "plt.legend()\n",
    "# plt.yscale(\"log\")"
   ]
  },
  {
   "cell_type": "code",
   "execution_count": 7,
   "id": "92900a31",
   "metadata": {},
   "outputs": [
    {
     "name": "stdout",
     "output_type": "stream",
     "text": [
      "Isotropic distribution has 1000 particles with hT 9.999999999999995e-07\n",
      "Event has 3 particles with hT 49.92607811\n",
      "Warning: Events are not balanced to within 1e-4! Using unbalanced OT with omega_max = 4!\n",
      "SEMD between event and vacuum: [23187.55]\n",
      "Warning: Events are not balanced to within 1e-4! Using unbalanced OT with omega_max = 4!\n",
      "SEMD between event and isotropic with hT 9.999999999999995e-07: [23187.55]\n"
     ]
    }
   ],
   "source": [
    "num_events = 100\n",
    "density_part = 1000\n",
    "\n",
    "hardprocess_SEMD_data = np.array([[33.2668635 ,-0.32267319,-0.77723168],[11.61741814,1.8506712 ,-2.30852398],[5.04179647,1.18930231,-3.11217101],[0,0,0],[0,0,0]])\n",
    "vacuum = np.zeros((density_part,3))\n",
    "isotropics = np.zeros((num_events,density_part,3))\n",
    "isotropic_hts = np.logspace(-6,3,num_events)\n",
    "\n",
    "for i in range(num_events):\n",
    "    for j in range(density_part):\n",
    "        isotropics[i,j,0] = isotropic_hts[i] / density_part\n",
    "        isotropics[i,j,1] = np.random.uniform(-4.9, 4.9)\n",
    "        isotropics[i,j,2] = np.random.uniform(-np.pi, np.pi)\n",
    "\n",
    "test_event = np.zeros((1000,3))\n",
    "test_event[0:5,:] = hardprocess_SEMD_data\n",
    "\n",
    "print(f'Isotropic distribution has {len(isotropics[0])} particles with hT {np.sum(isotropics[0,:,0])}')\n",
    "print(f'Event has {len(np.where(hardprocess_SEMD_data[:,0] != 0)[0])} particles with hT {np.sum(hardprocess_SEMD_data[:,0])}')\n",
    "\n",
    "print(f'SEMD between event and vacuum: {specter.spectralEMD(vacuum.reshape(1, -1, 3), test_event.reshape(1, -1, 3), omega_max = 4)}')\n",
    "print(f'SEMD between event and isotropic with hT {np.sum(isotropics[0,:,0])}: {specter.spectralEMD(isotropics[0].reshape(1, -1, 3), test_event.reshape(1, -1, 3), omega_max = 4)}')"
   ]
  },
  {
   "cell_type": "markdown",
   "id": "33bef68d",
   "metadata": {},
   "source": [
    "# Timing Tests"
   ]
  },
  {
   "cell_type": "code",
   "execution_count": 1,
   "id": "35074c2a",
   "metadata": {},
   "outputs": [],
   "source": [
    "import time \n",
    "\n",
    "from pyspecter.SPECTER import SPECTER\n",
    "import numpy as np"
   ]
  },
  {
   "cell_type": "code",
   "execution_count": 2,
   "id": "18f01a8b",
   "metadata": {},
   "outputs": [
    {
     "name": "stderr",
     "output_type": "stream",
     "text": [
      "No GPU/TPU found, falling back to CPU. (Set TF_CPP_MIN_LOG_LEVEL=0 and rerun for more info.)\n"
     ]
    },
    {
     "name": "stdout",
     "output_type": "stream",
     "text": [
      "Compiling SPECTER model...\n",
      "Generating test events for tracing ...\n",
      "Test events generated! Time taken:  7.573453664779663  seconds.\n",
      "Compiling spectral representation functions ...\n",
      "Compilation complete! Time taken:  67.64005827903748  seconds.\n",
      "Finished: Time taken: 51.55037021636963 seconds.\n",
      "Time taken for EMD calculation: 51.59728932380676 seconds\n",
      "Warning: Events are not balanced to within 1e-4! Using unbalanced OT with omega_max = 1!\n",
      "Balanced events. Time taken: 34.968353033065796 seconds.\n",
      "Finished: Time taken: 58.07427668571472 seconds.\n",
      "Time taken for EMD calculation: 58.121225118637085 seconds\n"
     ]
    }
   ],
   "source": [
    "specter = SPECTER()\n",
    "\n",
    "\n",
    "# TEST 1: Balanced EMD\n",
    "\n",
    "num_events = 10000\n",
    "events1 = np.random.normal(size=(num_events, 100, 3))\n",
    "events1[:, :, 0] = 1/100\n",
    "\n",
    "\n",
    "events2 = np.random.normal(size=(num_events, 100, 3))\n",
    "events2[:, :, 0] = 1/100\n",
    "\n",
    "start_time = time.time()\n",
    "emds = specter.spectralEMD(events1, events2, verbose=True)\n",
    "end_time = time.time()\n",
    "print(f\"Time taken for EMD calculation: {end_time - start_time} seconds\")\n",
    "\n",
    "\n",
    "# TEST 2: Unbalanced EMD\n",
    "\n",
    "events2[:, :, 0] = 1/50  # Total Energy = 2 GeV\n",
    "start_time = time.time()\n",
    "emds = specter.spectralEMD(events1, events2, omega_max=1, verbose=True)\n",
    "end_time = time.time()\n",
    "print(f\"Time taken for EMD calculation: {end_time - start_time} seconds\")\n"
   ]
  },
  {
   "cell_type": "code",
   "execution_count": null,
   "id": "fe1cd813",
   "metadata": {},
   "outputs": [
    {
     "name": "stdout",
     "output_type": "stream",
     "text": [
      "Finished: Time taken: 46.903419494628906 seconds.\n",
      "Time taken for EMD calculation: 46.95435166358948 seconds\n",
      "Warning: Events are not balanced to within 1e-4! Using unbalanced OT with omega_max = 1!\n",
      "Balanced events. Time taken: 52.58281135559082 seconds.\n",
      "Finished: Time taken: 71.91360902786255 seconds.\n",
      "Time taken for EMD calculation: 71.971759557724 seconds\n"
     ]
    }
   ],
   "source": [
    "\n",
    "# TEST 1: Balanced EMD\n",
    "\n",
    "num_events = 10000\n",
    "events1 = np.random.normal(size=(num_events, 100, 3))\n",
    "events1[:, :, 0] = 1/100\n",
    "\n",
    "\n",
    "events2 = np.random.normal(size=(num_events, 100, 3))\n",
    "events2[:, :, 0] = 1/100\n",
    "\n",
    "start_time = time.time()\n",
    "emds = specter.spectralEMD(events1, events2, verbose=True)\n",
    "end_time = time.time()\n",
    "print(f\"Time taken for EMD calculation: {end_time - start_time} seconds\")\n",
    "\n",
    "\n",
    "# TEST 2: Unbalanced EMD\n",
    "\n",
    "events2[:, :, 0] = 1/50  # Total Energy = 2 GeV\n",
    "start_time = time.time()\n",
    "emds = specter.spectralEMD(events1, events2, omega_max=1, verbose=True)\n",
    "end_time = time.time()\n",
    "print(f\"Time taken for EMD calculation: {end_time - start_time} seconds\")\n"
   ]
  },
  {
   "cell_type": "code",
   "execution_count": null,
   "id": "1577d584",
   "metadata": {},
   "outputs": [],
   "source": []
  }
 ],
 "metadata": {
  "kernelspec": {
   "display_name": "SHAPER",
   "language": "python",
   "name": "python3"
  },
  "language_info": {
   "codemirror_mode": {
    "name": "ipython",
    "version": 3
   },
   "file_extension": ".py",
   "mimetype": "text/x-python",
   "name": "python",
   "nbconvert_exporter": "python",
   "pygments_lexer": "ipython3",
   "version": "3.8.2"
  }
 },
 "nbformat": 4,
 "nbformat_minor": 5
}
